{
  "nbformat": 4,
  "nbformat_minor": 0,
  "metadata": {
    "colab": {
      "name": "backprop.ipynb",
      "version": "0.3.2",
      "provenance": [],
      "toc_visible": true,
      "include_colab_link": true
    },
    "kernelspec": {
      "display_name": "Python 3",
      "language": "python",
      "name": "python3"
    }
  },
  "cells": [
    {
      "cell_type": "markdown",
      "metadata": {
        "id": "view-in-github",
        "colab_type": "text"
      },
      "source": [
        "<a href=\"https://colab.research.google.com/github/legchikov/Practical_DL/blob/fall18/week01_backprop/backprop.ipynb\" target=\"_parent\"><img src=\"https://colab.research.google.com/assets/colab-badge.svg\" alt=\"Open In Colab\"/></a>"
      ]
    },
    {
      "metadata": {
        "id": "NBs_E4Vvk7hN",
        "colab_type": "text"
      },
      "cell_type": "markdown",
      "source": [
        "### Your very own neural network\n",
        "\n",
        "In this notebook, we're going to build a neural network using naught but pure numpy and steel nerves. It's going to be fun, I promise!\n",
        "\n",
        "![img](https://github.com/legchikov/Practical_DL/blob/fall18/week01_backprop/frank.png?raw=1)"
      ]
    },
    {
      "metadata": {
        "id": "Ew5CmUIfk7iQ",
        "colab_type": "text"
      },
      "cell_type": "markdown",
      "source": [
        "Here goes our main class: a layer that can .forward() and .backward()."
      ]
    },
    {
      "metadata": {
        "id": "WHwEV24ok7hc",
        "colab_type": "code",
        "colab": {}
      },
      "cell_type": "code",
      "source": [
        "from __future__ import print_function\n",
        "import numpy as np\n",
        "np.random.seed(42)"
      ],
      "execution_count": 0,
      "outputs": []
    },
    {
      "metadata": {
        "id": "RsxxMr9ZquyX",
        "colab_type": "code",
        "outputId": "6bbd5691-b154-46f2-f510-7f8acf1f7830",
        "colab": {
          "resources": {
            "http://localhost:8080/nbextensions/google.colab/files.js": {
              "data": "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",
              "ok": true,
              "headers": [
                [
                  "content-type",
                  "application/javascript"
                ]
              ],
              "status": 200,
              "status_text": ""
            }
          },
          "base_uri": "https://localhost:8080/",
          "height": 220
        }
      },
      "cell_type": "code",
      "source": [
        "# Download file to google colab\n",
        "from google.colab import files\n",
        "src = list(files.upload().values())[0]\n",
        "open('util.py','wb').write(src)"
      ],
      "execution_count": 32,
      "outputs": [
        {
          "output_type": "display_data",
          "data": {
            "text/html": [
              "\n",
              "     <input type=\"file\" id=\"files-a2b7dea4-4c19-4727-aa85-c0c523a75361\" name=\"files[]\" multiple disabled />\n",
              "     <output id=\"result-a2b7dea4-4c19-4727-aa85-c0c523a75361\">\n",
              "      Upload widget is only available when the cell has been executed in the\n",
              "      current browser session. Please rerun this cell to enable.\n",
              "      </output>\n",
              "      <script src=\"/nbextensions/google.colab/files.js\"></script> "
            ],
            "text/plain": [
              "<IPython.core.display.HTML object>"
            ]
          },
          "metadata": {
            "tags": []
          }
        },
        {
          "output_type": "error",
          "ename": "IndexError",
          "evalue": "ignored",
          "traceback": [
            "\u001b[0;31m---------------------------------------------------------------------------\u001b[0m",
            "\u001b[0;31mIndexError\u001b[0m                                Traceback (most recent call last)",
            "\u001b[0;32m<ipython-input-32-d7063fbf15a4>\u001b[0m in \u001b[0;36m<module>\u001b[0;34m()\u001b[0m\n\u001b[1;32m      1\u001b[0m \u001b[0;32mfrom\u001b[0m \u001b[0mgoogle\u001b[0m\u001b[0;34m.\u001b[0m\u001b[0mcolab\u001b[0m \u001b[0;32mimport\u001b[0m \u001b[0mfiles\u001b[0m\u001b[0;34m\u001b[0m\u001b[0m\n\u001b[0;32m----> 2\u001b[0;31m \u001b[0msrc\u001b[0m \u001b[0;34m=\u001b[0m \u001b[0mlist\u001b[0m\u001b[0;34m(\u001b[0m\u001b[0mfiles\u001b[0m\u001b[0;34m.\u001b[0m\u001b[0mupload\u001b[0m\u001b[0;34m(\u001b[0m\u001b[0;34m)\u001b[0m\u001b[0;34m.\u001b[0m\u001b[0mvalues\u001b[0m\u001b[0;34m(\u001b[0m\u001b[0;34m)\u001b[0m\u001b[0;34m)\u001b[0m\u001b[0;34m[\u001b[0m\u001b[0;36m0\u001b[0m\u001b[0;34m]\u001b[0m\u001b[0;34m\u001b[0m\u001b[0m\n\u001b[0m\u001b[1;32m      3\u001b[0m \u001b[0mopen\u001b[0m\u001b[0;34m(\u001b[0m\u001b[0;34m'util.py'\u001b[0m\u001b[0;34m,\u001b[0m\u001b[0;34m'wb'\u001b[0m\u001b[0;34m)\u001b[0m\u001b[0;34m.\u001b[0m\u001b[0mwrite\u001b[0m\u001b[0;34m(\u001b[0m\u001b[0msrc\u001b[0m\u001b[0;34m)\u001b[0m\u001b[0;34m\u001b[0m\u001b[0m\n",
            "\u001b[0;31mIndexError\u001b[0m: list index out of range"
          ]
        }
      ]
    },
    {
      "metadata": {
        "id": "IUUlJsOpq-oD",
        "colab_type": "code",
        "colab": {}
      },
      "cell_type": "code",
      "source": [
        "# Remove file or folder\n",
        "!rm <filename>\n",
        "!rm -rf <folder>"
      ],
      "execution_count": 0,
      "outputs": []
    },
    {
      "metadata": {
        "id": "F6YsSboTk7is",
        "colab_type": "code",
        "colab": {}
      },
      "cell_type": "code",
      "source": [
        "class Layer:\n",
        "    \"\"\"\n",
        "    A building block. Each layer is capable of performing two things:\n",
        "    \n",
        "    - Process input to get output:           output = layer.forward(input)\n",
        "    \n",
        "    - Propagate gradients through itself:    grad_input = layer.backward(input, grad_output)\n",
        "    \n",
        "    Some layers also have learnable parameters which they update during layer.backward.\n",
        "    \"\"\"\n",
        "    def __init__(self):\n",
        "        \"\"\"Here you can initialize layer parameters (if any) and auxiliary stuff.\"\"\"\n",
        "        # A dummy layer does nothing\n",
        "        pass\n",
        "    \n",
        "    def forward(self, input):\n",
        "        \"\"\"\n",
        "        Takes input data of shape [batch, input_units], returns output data [batch, output_units]\n",
        "        \"\"\"\n",
        "        \n",
        "        return input\n",
        "\n",
        "    def backward(self, input, grad_output):\n",
        "        \"\"\"\n",
        "        Performs a backpropagation step through the layer, with respect to the given input.\n",
        "        \n",
        "        To compute loss gradients w.r.t input, you need to apply chain rule (backprop):\n",
        "        \n",
        "        d loss / d x  = (d loss / d layer) * (d layer / d x)\n",
        "        \n",
        "        Luckily, you already receive d loss / d layer as input, so you only need to multiply it by d layer / d x.\n",
        "        \n",
        "        If your layer has parameters (e.g. dense layer), you also need to update them here using d loss / d layer\n",
        "        \"\"\"\n",
        "        # The gradient of a dummy layer is precisely grad_output, but we'll write it more explicitly\n",
        "        num_units = input.shape[1]\n",
        "        \n",
        "        d_layer_d_input = np.eye(num_units)\n",
        "        \n",
        "        return np.dot(grad_output, d_layer_d_input) # chain rule"
      ],
      "execution_count": 0,
      "outputs": []
    },
    {
      "metadata": {
        "id": "kNrkOYqPk7jO",
        "colab_type": "text"
      },
      "cell_type": "markdown",
      "source": [
        "### The road ahead\n",
        "\n",
        "We're going to build a neural network that classifies MNIST digits. To do so, we'll need a few building blocks:\n",
        "- Dense layer - a fully-connected layer, $f(X)=X \\cdot W + \\vec{b}$\n",
        "- ReLU layer (or any other nonlinearity you want)\n",
        "- Loss function - crossentropy\n",
        "- Backprop algorithm - a stochastic gradient descent with backpropageted gradients\n",
        "\n",
        "Let's approach them one at a time.\n"
      ]
    },
    {
      "metadata": {
        "id": "vfxRGiRok7jU",
        "colab_type": "text"
      },
      "cell_type": "markdown",
      "source": [
        "### Nonlinearity layer\n",
        "\n",
        "This is the simplest layer you can get: it simply applies a nonlinearity to each element of your network."
      ]
    },
    {
      "metadata": {
        "id": "oKPDFZqLk7kL",
        "colab_type": "code",
        "colab": {}
      },
      "cell_type": "code",
      "source": [
        "class ReLU(Layer):\n",
        "    def __init__(self):\n",
        "        \"\"\"ReLU layer simply applies elementwise rectified linear unit to all inputs\"\"\"\n",
        "        pass\n",
        "    \n",
        "    def forward(self, input):\n",
        "        \"\"\"Apply elementwise ReLU to [batch, input_units] matrix\"\"\"\n",
        "        # <your code. Try np.maximum>\n",
        "        output = np.maximum(0, input)\n",
        "        return output\n",
        "    \n",
        "    def backward(self, input, grad_output):\n",
        "        \"\"\"Compute gradient of loss w.r.t. ReLU input\"\"\"\n",
        "        relu_grad = input > 0\n",
        "        return grad_output*relu_grad        "
      ],
      "execution_count": 0,
      "outputs": []
    },
    {
      "metadata": {
        "id": "U137pq42k7lV",
        "colab_type": "code",
        "colab": {}
      },
      "cell_type": "code",
      "source": [
        "# some tests\n",
        "from util import eval_numerical_gradient\n",
        "x = np.linspace(-1,1,10*32).reshape([10,32])\n",
        "l = ReLU()\n",
        "grads = l.backward(x,np.ones([10,32])/(32*10))\n",
        "numeric_grads = eval_numerical_gradient(lambda x: l.forward(x).mean(), x=x)\n",
        "assert np.allclose(grads, numeric_grads, rtol=1e-3, atol=0),\\\n",
        "    \"gradient returned by your layer does not match the numerically computed gradient\""
      ],
      "execution_count": 0,
      "outputs": []
    },
    {
      "metadata": {
        "id": "gcblgUmrk7ld",
        "colab_type": "text"
      },
      "cell_type": "markdown",
      "source": [
        "#### Instant primer: lambda functions\n",
        "\n",
        "In python, you can define functions in one line using the `lambda` syntax: `lambda param1, param2: expression`\n",
        "\n",
        "For example: `f = lambda x, y: x+y` is equivalent to a normal function:\n",
        "\n",
        "```\n",
        "def f(x,y):\n",
        "    return x+y\n",
        "```\n",
        "For more information, click [here](http://www.secnetix.de/olli/Python/lambda_functions.hawk).    "
      ]
    },
    {
      "metadata": {
        "id": "jSrmdoZFk7li",
        "colab_type": "text"
      },
      "cell_type": "markdown",
      "source": [
        "### Dense layer\n",
        "\n",
        "Now let's build something more complicated. Unlike nonlinearity, a dense layer actually has something to learn.\n",
        "\n",
        "A dense layer applies affine transformation. In a vectorized form, it can be described as:\n",
        "$$f(X)= X \\cdot W + \\vec b $$\n",
        "\n",
        "Where \n",
        "* X is an object-feature matrix of shape [batch_size, num_features],\n",
        "* W is a weight matrix [num_features, num_outputs] \n",
        "* and b is a vector of num_outputs biases.\n",
        "\n",
        "Both W and b are initialized during layer creation and updated each time backward is called."
      ]
    },
    {
      "metadata": {
        "id": "i4y9mYuak7lk",
        "colab_type": "code",
        "colab": {}
      },
      "cell_type": "code",
      "source": [
        "class Dense(Layer):\n",
        "    def __init__(self, input_units, output_units, learning_rate=0.1):\n",
        "        \"\"\"\n",
        "        A dense layer is a layer which performs a learned affine transformation:\n",
        "        f(x) = <x*W> + b\n",
        "        \"\"\"\n",
        "        self.learning_rate = learning_rate\n",
        "        \n",
        "        # initialize weights with small random numbers. We use normal initialization, \n",
        "        # but surely there is something better. Try this once you got it working: http://bit.ly/2vTlmaJ\n",
        "        self.weights = np.random.randn(input_units, output_units)*0.01\n",
        "        self.biases = np.zeros(output_units)\n",
        "        \n",
        "    def forward(self,input):\n",
        "        \"\"\"\n",
        "        Perform an affine transformation:\n",
        "        f(x) = <x*W> + b\n",
        "        \n",
        "        input shape: [batch, input_units]\n",
        "        output shape: [batch, output units]\n",
        "        \"\"\"\n",
        "        return np.dot(input, self.weights) + self.biases\n",
        "    \n",
        "    def backward(self,input,grad_output):\n",
        "        \n",
        "        # compute d f / d x = d f / d dense * d dense / d x\n",
        "        # where d dense/ d x = weights transposed\n",
        "        grad_input = np.dot(grad_output, self.weights.T)\n",
        "        \n",
        "        # compute gradient w.r.t. weights and biases\n",
        "        grad_weights = np.dot(input.T, grad_output)\n",
        "        grad_biases = grad_output.mean(axis=0)*input.shape[0]\n",
        "        \n",
        "        assert grad_weights.shape == self.weights.shape and grad_biases.shape == self.biases.shape\n",
        "        # Here we perform a stochastic gradient descent step. \n",
        "        # Later on, you can try replacing that with something better.\n",
        "        self.weights = self.weights - self.learning_rate * grad_weights\n",
        "        self.biases = self.biases - self.learning_rate * grad_biases\n",
        "        \n",
        "        return grad_input"
      ],
      "execution_count": 0,
      "outputs": []
    },
    {
      "metadata": {
        "id": "VSmnM3Afk7lx",
        "colab_type": "text"
      },
      "cell_type": "markdown",
      "source": [
        "### Testing the dense layer\n",
        "\n",
        "Here we have a few tests to make sure your dense layer works properly. You can just run them, get 3 \"well done\"s and forget they ever existed.\n",
        "\n",
        "... or not get 3 \"well done\"s and go fix stuff. If that is the case, here are some tips for you:\n",
        "* Make sure you compute gradients for W and b as __sum of gradients over batch__, not mean over gradients. Grad_output is already divided by batch size.\n",
        "* If you're debugging, try saving gradients in class fields, like \"self.grad_w = grad_w\" or print first 3-5 weights. This helps debugging.\n",
        "* If nothing else helps, try ignoring tests and proceed to network training. If it trains alright, you may be off by something that does not affect network training."
      ]
    },
    {
      "metadata": {
        "id": "lvqodjHQk7l8",
        "colab_type": "code",
        "outputId": "18bd7f4b-cfaa-459e-9968-6de198a8aae4",
        "colab": {
          "base_uri": "https://localhost:8080/",
          "height": 34
        }
      },
      "cell_type": "code",
      "source": [
        "l = Dense(128, 150)\n",
        "\n",
        "assert -0.05 < l.weights.mean() < 0.05 and 1e-3 < l.weights.std() < 1e-1,\\\n",
        "    \"The initial weights must have zero mean and small variance. \"\\\n",
        "    \"If you know what you're doing, remove this assertion.\"\n",
        "assert -0.05 < l.biases.mean() < 0.05, \"Biases must be zero mean. Ignore if you have a reason to do otherwise.\"\n",
        "\n",
        "# To test the outputs, we explicitly set weights with fixed values. DO NOT DO THAT IN ACTUAL NETWORK!\n",
        "l = Dense(3,4)\n",
        "\n",
        "x = np.linspace(-1,1,2*3).reshape([2,3])\n",
        "l.weights = np.linspace(-1,1,3*4).reshape([3,4])\n",
        "l.biases = np.linspace(-1,1,4)\n",
        "\n",
        "assert np.allclose(l.forward(x),np.array([[ 0.07272727,  0.41212121,  0.75151515,  1.09090909],\n",
        "                                          [-0.90909091,  0.08484848,  1.07878788,  2.07272727]]))\n",
        "print(\"Well done!\")"
      ],
      "execution_count": 46,
      "outputs": [
        {
          "output_type": "stream",
          "text": [
            "Well done!\n"
          ],
          "name": "stdout"
        }
      ]
    },
    {
      "metadata": {
        "id": "dnjqx99fk7mP",
        "colab_type": "code",
        "outputId": "6fa462e3-b8d5-458b-8910-f6de8d986f9b",
        "colab": {
          "base_uri": "https://localhost:8080/",
          "height": 34
        }
      },
      "cell_type": "code",
      "source": [
        "# To test the grads, we use gradients obtained via finite differences\n",
        "\n",
        "from util import eval_numerical_gradient\n",
        "\n",
        "x = np.linspace(-1,1,10*32).reshape([10,32])\n",
        "l = Dense(32,64,learning_rate=0)\n",
        "\n",
        "numeric_grads = eval_numerical_gradient(lambda x: l.forward(x).sum(),x)\n",
        "grads = l.backward(x,np.ones([10,64]))\n",
        "\n",
        "assert np.allclose(grads,numeric_grads,rtol=1e-3,atol=0), \"input gradient does not match numeric grad\"\n",
        "print(\"Well done!\")"
      ],
      "execution_count": 47,
      "outputs": [
        {
          "output_type": "stream",
          "text": [
            "Well done!\n"
          ],
          "name": "stdout"
        }
      ]
    },
    {
      "metadata": {
        "id": "la6ZMnBDk7m1",
        "colab_type": "code",
        "outputId": "5c70506e-6f3e-449d-f1f6-7e4f6951c3af",
        "colab": {
          "base_uri": "https://localhost:8080/",
          "height": 34
        }
      },
      "cell_type": "code",
      "source": [
        "#test gradients w.r.t. params\n",
        "def compute_out_given_wb(w,b):\n",
        "    l = Dense(32,64,learning_rate=1)\n",
        "    l.weights = np.array(w)\n",
        "    l.biases = np.array(b)\n",
        "    x = np.linspace(-1,1,10*32).reshape([10,32])\n",
        "    return l.forward(x)\n",
        "    \n",
        "def compute_grad_by_params(w,b):\n",
        "    l = Dense(32,64,learning_rate=1)\n",
        "    l.weights = np.array(w)\n",
        "    l.biases = np.array(b)\n",
        "    x = np.linspace(-1,1,10*32).reshape([10,32])\n",
        "    l.backward(x,np.ones([10,64]) / 10.)\n",
        "    return w - l.weights, b - l.biases\n",
        "    \n",
        "w,b = np.random.randn(32,64), np.linspace(-1,1,64)\n",
        "\n",
        "numeric_dw = eval_numerical_gradient(lambda w: compute_out_given_wb(w,b).mean(0).sum(),w )\n",
        "numeric_db = eval_numerical_gradient(lambda b: compute_out_given_wb(w,b).mean(0).sum(),b )\n",
        "grad_w,grad_b = compute_grad_by_params(w,b)\n",
        "\n",
        "assert np.allclose(numeric_dw,grad_w,rtol=1e-3,atol=0), \"weight gradient does not match numeric weight gradient\"\n",
        "assert np.allclose(numeric_db,grad_b,rtol=1e-3,atol=0), \"weight gradient does not match numeric weight gradient\"\n",
        "print(\"Well done!\")"
      ],
      "execution_count": 48,
      "outputs": [
        {
          "output_type": "stream",
          "text": [
            "Well done!\n"
          ],
          "name": "stdout"
        }
      ]
    },
    {
      "metadata": {
        "id": "V9ULmwlOk7nI",
        "colab_type": "text"
      },
      "cell_type": "markdown",
      "source": [
        "### The loss function\n",
        "\n",
        "Since we want to predict probabilities, it would be logical for us to define softmax nonlinearity on top of our network and compute loss given predicted probabilities. However, there is a better way to do so.\n",
        "\n",
        "If you write down the expression for crossentropy as a function of softmax logits (a), you'll see:\n",
        "\n",
        "$$ loss = - log \\space {e^{a_{correct}} \\over {\\underset i \\sum e^{a_i} } } $$\n",
        "\n",
        "If you take a closer look, ya'll see that it can be rewritten as:\n",
        "\n",
        "$$ loss = - a_{correct} + log {\\underset i \\sum e^{a_i} } $$\n",
        "\n",
        "It's called Log-softmax and it's better than naive log(softmax(a)) in all aspects:\n",
        "* Better numerical stability\n",
        "* Easier to get derivative right\n",
        "* Marginally faster to compute\n",
        "\n",
        "So why not just use log-softmax throughout our computation and never actually bother to estimate probabilities.\n",
        "\n",
        "Here you are! We've defined the both loss functions for you so that you could focus on neural network part."
      ]
    },
    {
      "metadata": {
        "id": "c4XSxS8Uk7nM",
        "colab_type": "code",
        "colab": {}
      },
      "cell_type": "code",
      "source": [
        "def softmax_crossentropy_with_logits(logits,reference_answers):\n",
        "    \"\"\"Compute crossentropy from logits[batch,n_classes] and ids of correct answers\"\"\"\n",
        "    logits_for_answers = logits[np.arange(len(logits)),reference_answers]\n",
        "    \n",
        "    xentropy = - logits_for_answers + np.log(np.sum(np.exp(logits),axis=-1))\n",
        "    \n",
        "    return xentropy\n",
        "\n",
        "def grad_softmax_crossentropy_with_logits(logits,reference_answers):\n",
        "    \"\"\"Compute crossentropy gradient from logits[batch,n_classes] and ids of correct answers\"\"\"\n",
        "    ones_for_answers = np.zeros_like(logits)\n",
        "    ones_for_answers[np.arange(len(logits)),reference_answers] = 1\n",
        "    \n",
        "    softmax = np.exp(logits) / np.exp(logits).sum(axis=-1,keepdims=True)\n",
        "    \n",
        "    return (- ones_for_answers + softmax) / logits.shape[0]"
      ],
      "execution_count": 0,
      "outputs": []
    },
    {
      "metadata": {
        "id": "TqrCgSFafIvW",
        "colab_type": "code",
        "colab": {
          "base_uri": "https://localhost:8080/",
          "height": 1717
        },
        "outputId": "4c6b5b0d-8f00-4aef-b46a-6ecfc7cbd202"
      },
      "cell_type": "code",
      "source": [
        "logits = np.linspace(-1,1,500).reshape([50,10])\n",
        "logits"
      ],
      "execution_count": 50,
      "outputs": [
        {
          "output_type": "execute_result",
          "data": {
            "text/plain": [
              "array([[-1.        , -0.99599198, -0.99198397, -0.98797595, -0.98396794,\n",
              "        -0.97995992, -0.9759519 , -0.97194389, -0.96793587, -0.96392786],\n",
              "       [-0.95991984, -0.95591182, -0.95190381, -0.94789579, -0.94388778,\n",
              "        -0.93987976, -0.93587174, -0.93186373, -0.92785571, -0.9238477 ],\n",
              "       [-0.91983968, -0.91583166, -0.91182365, -0.90781563, -0.90380762,\n",
              "        -0.8997996 , -0.89579158, -0.89178357, -0.88777555, -0.88376754],\n",
              "       [-0.87975952, -0.8757515 , -0.87174349, -0.86773547, -0.86372745,\n",
              "        -0.85971944, -0.85571142, -0.85170341, -0.84769539, -0.84368737],\n",
              "       [-0.83967936, -0.83567134, -0.83166333, -0.82765531, -0.82364729,\n",
              "        -0.81963928, -0.81563126, -0.81162325, -0.80761523, -0.80360721],\n",
              "       [-0.7995992 , -0.79559118, -0.79158317, -0.78757515, -0.78356713,\n",
              "        -0.77955912, -0.7755511 , -0.77154309, -0.76753507, -0.76352705],\n",
              "       [-0.75951904, -0.75551102, -0.75150301, -0.74749499, -0.74348697,\n",
              "        -0.73947896, -0.73547094, -0.73146293, -0.72745491, -0.72344689],\n",
              "       [-0.71943888, -0.71543086, -0.71142285, -0.70741483, -0.70340681,\n",
              "        -0.6993988 , -0.69539078, -0.69138277, -0.68737475, -0.68336673],\n",
              "       [-0.67935872, -0.6753507 , -0.67134269, -0.66733467, -0.66332665,\n",
              "        -0.65931864, -0.65531062, -0.65130261, -0.64729459, -0.64328657],\n",
              "       [-0.63927856, -0.63527054, -0.63126253, -0.62725451, -0.62324649,\n",
              "        -0.61923848, -0.61523046, -0.61122244, -0.60721443, -0.60320641],\n",
              "       [-0.5991984 , -0.59519038, -0.59118236, -0.58717435, -0.58316633,\n",
              "        -0.57915832, -0.5751503 , -0.57114228, -0.56713427, -0.56312625],\n",
              "       [-0.55911824, -0.55511022, -0.5511022 , -0.54709419, -0.54308617,\n",
              "        -0.53907816, -0.53507014, -0.53106212, -0.52705411, -0.52304609],\n",
              "       [-0.51903808, -0.51503006, -0.51102204, -0.50701403, -0.50300601,\n",
              "        -0.498998  , -0.49498998, -0.49098196, -0.48697395, -0.48296593],\n",
              "       [-0.47895792, -0.4749499 , -0.47094188, -0.46693387, -0.46292585,\n",
              "        -0.45891784, -0.45490982, -0.4509018 , -0.44689379, -0.44288577],\n",
              "       [-0.43887776, -0.43486974, -0.43086172, -0.42685371, -0.42284569,\n",
              "        -0.41883768, -0.41482966, -0.41082164, -0.40681363, -0.40280561],\n",
              "       [-0.3987976 , -0.39478958, -0.39078156, -0.38677355, -0.38276553,\n",
              "        -0.37875752, -0.3747495 , -0.37074148, -0.36673347, -0.36272545],\n",
              "       [-0.35871743, -0.35470942, -0.3507014 , -0.34669339, -0.34268537,\n",
              "        -0.33867735, -0.33466934, -0.33066132, -0.32665331, -0.32264529],\n",
              "       [-0.31863727, -0.31462926, -0.31062124, -0.30661323, -0.30260521,\n",
              "        -0.29859719, -0.29458918, -0.29058116, -0.28657315, -0.28256513],\n",
              "       [-0.27855711, -0.2745491 , -0.27054108, -0.26653307, -0.26252505,\n",
              "        -0.25851703, -0.25450902, -0.250501  , -0.24649299, -0.24248497],\n",
              "       [-0.23847695, -0.23446894, -0.23046092, -0.22645291, -0.22244489,\n",
              "        -0.21843687, -0.21442886, -0.21042084, -0.20641283, -0.20240481],\n",
              "       [-0.19839679, -0.19438878, -0.19038076, -0.18637275, -0.18236473,\n",
              "        -0.17835671, -0.1743487 , -0.17034068, -0.16633267, -0.16232465],\n",
              "       [-0.15831663, -0.15430862, -0.1503006 , -0.14629259, -0.14228457,\n",
              "        -0.13827655, -0.13426854, -0.13026052, -0.12625251, -0.12224449],\n",
              "       [-0.11823647, -0.11422846, -0.11022044, -0.10621242, -0.10220441,\n",
              "        -0.09819639, -0.09418838, -0.09018036, -0.08617234, -0.08216433],\n",
              "       [-0.07815631, -0.0741483 , -0.07014028, -0.06613226, -0.06212425,\n",
              "        -0.05811623, -0.05410822, -0.0501002 , -0.04609218, -0.04208417],\n",
              "       [-0.03807615, -0.03406814, -0.03006012, -0.0260521 , -0.02204409,\n",
              "        -0.01803607, -0.01402806, -0.01002004, -0.00601202, -0.00200401],\n",
              "       [ 0.00200401,  0.00601202,  0.01002004,  0.01402806,  0.01803607,\n",
              "         0.02204409,  0.0260521 ,  0.03006012,  0.03406814,  0.03807615],\n",
              "       [ 0.04208417,  0.04609218,  0.0501002 ,  0.05410822,  0.05811623,\n",
              "         0.06212425,  0.06613226,  0.07014028,  0.0741483 ,  0.07815631],\n",
              "       [ 0.08216433,  0.08617234,  0.09018036,  0.09418838,  0.09819639,\n",
              "         0.10220441,  0.10621242,  0.11022044,  0.11422846,  0.11823647],\n",
              "       [ 0.12224449,  0.12625251,  0.13026052,  0.13426854,  0.13827655,\n",
              "         0.14228457,  0.14629259,  0.1503006 ,  0.15430862,  0.15831663],\n",
              "       [ 0.16232465,  0.16633267,  0.17034068,  0.1743487 ,  0.17835671,\n",
              "         0.18236473,  0.18637275,  0.19038076,  0.19438878,  0.19839679],\n",
              "       [ 0.20240481,  0.20641283,  0.21042084,  0.21442886,  0.21843687,\n",
              "         0.22244489,  0.22645291,  0.23046092,  0.23446894,  0.23847695],\n",
              "       [ 0.24248497,  0.24649299,  0.250501  ,  0.25450902,  0.25851703,\n",
              "         0.26252505,  0.26653307,  0.27054108,  0.2745491 ,  0.27855711],\n",
              "       [ 0.28256513,  0.28657315,  0.29058116,  0.29458918,  0.29859719,\n",
              "         0.30260521,  0.30661323,  0.31062124,  0.31462926,  0.31863727],\n",
              "       [ 0.32264529,  0.32665331,  0.33066132,  0.33466934,  0.33867735,\n",
              "         0.34268537,  0.34669339,  0.3507014 ,  0.35470942,  0.35871743],\n",
              "       [ 0.36272545,  0.36673347,  0.37074148,  0.3747495 ,  0.37875752,\n",
              "         0.38276553,  0.38677355,  0.39078156,  0.39478958,  0.3987976 ],\n",
              "       [ 0.40280561,  0.40681363,  0.41082164,  0.41482966,  0.41883768,\n",
              "         0.42284569,  0.42685371,  0.43086172,  0.43486974,  0.43887776],\n",
              "       [ 0.44288577,  0.44689379,  0.4509018 ,  0.45490982,  0.45891784,\n",
              "         0.46292585,  0.46693387,  0.47094188,  0.4749499 ,  0.47895792],\n",
              "       [ 0.48296593,  0.48697395,  0.49098196,  0.49498998,  0.498998  ,\n",
              "         0.50300601,  0.50701403,  0.51102204,  0.51503006,  0.51903808],\n",
              "       [ 0.52304609,  0.52705411,  0.53106212,  0.53507014,  0.53907816,\n",
              "         0.54308617,  0.54709419,  0.5511022 ,  0.55511022,  0.55911824],\n",
              "       [ 0.56312625,  0.56713427,  0.57114228,  0.5751503 ,  0.57915832,\n",
              "         0.58316633,  0.58717435,  0.59118236,  0.59519038,  0.5991984 ],\n",
              "       [ 0.60320641,  0.60721443,  0.61122244,  0.61523046,  0.61923848,\n",
              "         0.62324649,  0.62725451,  0.63126253,  0.63527054,  0.63927856],\n",
              "       [ 0.64328657,  0.64729459,  0.65130261,  0.65531062,  0.65931864,\n",
              "         0.66332665,  0.66733467,  0.67134269,  0.6753507 ,  0.67935872],\n",
              "       [ 0.68336673,  0.68737475,  0.69138277,  0.69539078,  0.6993988 ,\n",
              "         0.70340681,  0.70741483,  0.71142285,  0.71543086,  0.71943888],\n",
              "       [ 0.72344689,  0.72745491,  0.73146293,  0.73547094,  0.73947896,\n",
              "         0.74348697,  0.74749499,  0.75150301,  0.75551102,  0.75951904],\n",
              "       [ 0.76352705,  0.76753507,  0.77154309,  0.7755511 ,  0.77955912,\n",
              "         0.78356713,  0.78757515,  0.79158317,  0.79559118,  0.7995992 ],\n",
              "       [ 0.80360721,  0.80761523,  0.81162325,  0.81563126,  0.81963928,\n",
              "         0.82364729,  0.82765531,  0.83166333,  0.83567134,  0.83967936],\n",
              "       [ 0.84368737,  0.84769539,  0.85170341,  0.85571142,  0.85971944,\n",
              "         0.86372745,  0.86773547,  0.87174349,  0.8757515 ,  0.87975952],\n",
              "       [ 0.88376754,  0.88777555,  0.89178357,  0.89579158,  0.8997996 ,\n",
              "         0.90380762,  0.90781563,  0.91182365,  0.91583166,  0.91983968],\n",
              "       [ 0.9238477 ,  0.92785571,  0.93186373,  0.93587174,  0.93987976,\n",
              "         0.94388778,  0.94789579,  0.95190381,  0.95591182,  0.95991984],\n",
              "       [ 0.96392786,  0.96793587,  0.97194389,  0.9759519 ,  0.97995992,\n",
              "         0.98396794,  0.98797595,  0.99198397,  0.99599198,  1.        ]])"
            ]
          },
          "metadata": {
            "tags": []
          },
          "execution_count": 50
        }
      ]
    },
    {
      "metadata": {
        "id": "wpX7hHmzrIzZ",
        "colab_type": "code",
        "colab": {
          "base_uri": "https://localhost:8080/",
          "height": 68
        },
        "outputId": "49179ee7-5ee5-40fa-f8e6-02a14cec54c1"
      },
      "cell_type": "code",
      "source": [
        "answers = np.arange(50)%10\n",
        "answers"
      ],
      "execution_count": 51,
      "outputs": [
        {
          "output_type": "execute_result",
          "data": {
            "text/plain": [
              "array([0, 1, 2, 3, 4, 5, 6, 7, 8, 9, 0, 1, 2, 3, 4, 5, 6, 7, 8, 9, 0, 1,\n",
              "       2, 3, 4, 5, 6, 7, 8, 9, 0, 1, 2, 3, 4, 5, 6, 7, 8, 9, 0, 1, 2, 3,\n",
              "       4, 5, 6, 7, 8, 9])"
            ]
          },
          "metadata": {
            "tags": []
          },
          "execution_count": 51
        }
      ]
    },
    {
      "metadata": {
        "id": "job6XF1_rNUy",
        "colab_type": "code",
        "colab": {
          "base_uri": "https://localhost:8080/",
          "height": 187
        },
        "outputId": "5a2da70a-075d-4a3f-94a8-903176251512"
      },
      "cell_type": "code",
      "source": [
        "softmax_crossentropy_with_logits(logits,answers)"
      ],
      "execution_count": 52,
      "outputs": [
        {
          "output_type": "execute_result",
          "data": {
            "text/plain": [
              "array([2.32068743, 2.31667941, 2.3126714 , 2.30866338, 2.30465536,\n",
              "       2.30064735, 2.29663933, 2.29263132, 2.2886233 , 2.28461528,\n",
              "       2.32068743, 2.31667941, 2.3126714 , 2.30866338, 2.30465536,\n",
              "       2.30064735, 2.29663933, 2.29263132, 2.2886233 , 2.28461528,\n",
              "       2.32068743, 2.31667941, 2.3126714 , 2.30866338, 2.30465536,\n",
              "       2.30064735, 2.29663933, 2.29263132, 2.2886233 , 2.28461528,\n",
              "       2.32068743, 2.31667941, 2.3126714 , 2.30866338, 2.30465536,\n",
              "       2.30064735, 2.29663933, 2.29263132, 2.2886233 , 2.28461528,\n",
              "       2.32068743, 2.31667941, 2.3126714 , 2.30866338, 2.30465536,\n",
              "       2.30064735, 2.29663933, 2.29263132, 2.2886233 , 2.28461528])"
            ]
          },
          "metadata": {
            "tags": []
          },
          "execution_count": 52
        }
      ]
    },
    {
      "metadata": {
        "id": "FOnwKQt_ranR",
        "colab_type": "code",
        "colab": {
          "base_uri": "https://localhost:8080/",
          "height": 1717
        },
        "outputId": "9c364825-12bb-4328-e3df-9ac43305146a"
      },
      "cell_type": "code",
      "source": [
        "grads = grad_softmax_crossentropy_with_logits(logits,answers)\n",
        "grads"
      ],
      "execution_count": 53,
      "outputs": [
        {
          "output_type": "execute_result",
          "data": {
            "text/plain": [
              "array([[-0.01803588,  0.00197201,  0.00197993,  0.00198788,  0.00199586,\n",
              "         0.00200388,  0.00201193,  0.00202001,  0.00202812,  0.00203626],\n",
              "       [ 0.00196412, -0.01802799,  0.00197993,  0.00198788,  0.00199586,\n",
              "         0.00200388,  0.00201193,  0.00202001,  0.00202812,  0.00203626],\n",
              "       [ 0.00196412,  0.00197201, -0.01802007,  0.00198788,  0.00199586,\n",
              "         0.00200388,  0.00201193,  0.00202001,  0.00202812,  0.00203626],\n",
              "       [ 0.00196412,  0.00197201,  0.00197993, -0.01801212,  0.00199586,\n",
              "         0.00200388,  0.00201193,  0.00202001,  0.00202812,  0.00203626],\n",
              "       [ 0.00196412,  0.00197201,  0.00197993,  0.00198788, -0.01800414,\n",
              "         0.00200388,  0.00201193,  0.00202001,  0.00202812,  0.00203626],\n",
              "       [ 0.00196412,  0.00197201,  0.00197993,  0.00198788,  0.00199586,\n",
              "        -0.01799612,  0.00201193,  0.00202001,  0.00202812,  0.00203626],\n",
              "       [ 0.00196412,  0.00197201,  0.00197993,  0.00198788,  0.00199586,\n",
              "         0.00200388, -0.01798807,  0.00202001,  0.00202812,  0.00203626],\n",
              "       [ 0.00196412,  0.00197201,  0.00197993,  0.00198788,  0.00199586,\n",
              "         0.00200388,  0.00201193, -0.01797999,  0.00202812,  0.00203626],\n",
              "       [ 0.00196412,  0.00197201,  0.00197993,  0.00198788,  0.00199586,\n",
              "         0.00200388,  0.00201193,  0.00202001, -0.01797188,  0.00203626],\n",
              "       [ 0.00196412,  0.00197201,  0.00197993,  0.00198788,  0.00199586,\n",
              "         0.00200388,  0.00201193,  0.00202001,  0.00202812, -0.01796374],\n",
              "       [-0.01803588,  0.00197201,  0.00197993,  0.00198788,  0.00199586,\n",
              "         0.00200388,  0.00201193,  0.00202001,  0.00202812,  0.00203626],\n",
              "       [ 0.00196412, -0.01802799,  0.00197993,  0.00198788,  0.00199586,\n",
              "         0.00200388,  0.00201193,  0.00202001,  0.00202812,  0.00203626],\n",
              "       [ 0.00196412,  0.00197201, -0.01802007,  0.00198788,  0.00199586,\n",
              "         0.00200388,  0.00201193,  0.00202001,  0.00202812,  0.00203626],\n",
              "       [ 0.00196412,  0.00197201,  0.00197993, -0.01801212,  0.00199586,\n",
              "         0.00200388,  0.00201193,  0.00202001,  0.00202812,  0.00203626],\n",
              "       [ 0.00196412,  0.00197201,  0.00197993,  0.00198788, -0.01800414,\n",
              "         0.00200388,  0.00201193,  0.00202001,  0.00202812,  0.00203626],\n",
              "       [ 0.00196412,  0.00197201,  0.00197993,  0.00198788,  0.00199586,\n",
              "        -0.01799612,  0.00201193,  0.00202001,  0.00202812,  0.00203626],\n",
              "       [ 0.00196412,  0.00197201,  0.00197993,  0.00198788,  0.00199586,\n",
              "         0.00200388, -0.01798807,  0.00202001,  0.00202812,  0.00203626],\n",
              "       [ 0.00196412,  0.00197201,  0.00197993,  0.00198788,  0.00199586,\n",
              "         0.00200388,  0.00201193, -0.01797999,  0.00202812,  0.00203626],\n",
              "       [ 0.00196412,  0.00197201,  0.00197993,  0.00198788,  0.00199586,\n",
              "         0.00200388,  0.00201193,  0.00202001, -0.01797188,  0.00203626],\n",
              "       [ 0.00196412,  0.00197201,  0.00197993,  0.00198788,  0.00199586,\n",
              "         0.00200388,  0.00201193,  0.00202001,  0.00202812, -0.01796374],\n",
              "       [-0.01803588,  0.00197201,  0.00197993,  0.00198788,  0.00199586,\n",
              "         0.00200388,  0.00201193,  0.00202001,  0.00202812,  0.00203626],\n",
              "       [ 0.00196412, -0.01802799,  0.00197993,  0.00198788,  0.00199586,\n",
              "         0.00200388,  0.00201193,  0.00202001,  0.00202812,  0.00203626],\n",
              "       [ 0.00196412,  0.00197201, -0.01802007,  0.00198788,  0.00199586,\n",
              "         0.00200388,  0.00201193,  0.00202001,  0.00202812,  0.00203626],\n",
              "       [ 0.00196412,  0.00197201,  0.00197993, -0.01801212,  0.00199586,\n",
              "         0.00200388,  0.00201193,  0.00202001,  0.00202812,  0.00203626],\n",
              "       [ 0.00196412,  0.00197201,  0.00197993,  0.00198788, -0.01800414,\n",
              "         0.00200388,  0.00201193,  0.00202001,  0.00202812,  0.00203626],\n",
              "       [ 0.00196412,  0.00197201,  0.00197993,  0.00198788,  0.00199586,\n",
              "        -0.01799612,  0.00201193,  0.00202001,  0.00202812,  0.00203626],\n",
              "       [ 0.00196412,  0.00197201,  0.00197993,  0.00198788,  0.00199586,\n",
              "         0.00200388, -0.01798807,  0.00202001,  0.00202812,  0.00203626],\n",
              "       [ 0.00196412,  0.00197201,  0.00197993,  0.00198788,  0.00199586,\n",
              "         0.00200388,  0.00201193, -0.01797999,  0.00202812,  0.00203626],\n",
              "       [ 0.00196412,  0.00197201,  0.00197993,  0.00198788,  0.00199586,\n",
              "         0.00200388,  0.00201193,  0.00202001, -0.01797188,  0.00203626],\n",
              "       [ 0.00196412,  0.00197201,  0.00197993,  0.00198788,  0.00199586,\n",
              "         0.00200388,  0.00201193,  0.00202001,  0.00202812, -0.01796374],\n",
              "       [-0.01803588,  0.00197201,  0.00197993,  0.00198788,  0.00199586,\n",
              "         0.00200388,  0.00201193,  0.00202001,  0.00202812,  0.00203626],\n",
              "       [ 0.00196412, -0.01802799,  0.00197993,  0.00198788,  0.00199586,\n",
              "         0.00200388,  0.00201193,  0.00202001,  0.00202812,  0.00203626],\n",
              "       [ 0.00196412,  0.00197201, -0.01802007,  0.00198788,  0.00199586,\n",
              "         0.00200388,  0.00201193,  0.00202001,  0.00202812,  0.00203626],\n",
              "       [ 0.00196412,  0.00197201,  0.00197993, -0.01801212,  0.00199586,\n",
              "         0.00200388,  0.00201193,  0.00202001,  0.00202812,  0.00203626],\n",
              "       [ 0.00196412,  0.00197201,  0.00197993,  0.00198788, -0.01800414,\n",
              "         0.00200388,  0.00201193,  0.00202001,  0.00202812,  0.00203626],\n",
              "       [ 0.00196412,  0.00197201,  0.00197993,  0.00198788,  0.00199586,\n",
              "        -0.01799612,  0.00201193,  0.00202001,  0.00202812,  0.00203626],\n",
              "       [ 0.00196412,  0.00197201,  0.00197993,  0.00198788,  0.00199586,\n",
              "         0.00200388, -0.01798807,  0.00202001,  0.00202812,  0.00203626],\n",
              "       [ 0.00196412,  0.00197201,  0.00197993,  0.00198788,  0.00199586,\n",
              "         0.00200388,  0.00201193, -0.01797999,  0.00202812,  0.00203626],\n",
              "       [ 0.00196412,  0.00197201,  0.00197993,  0.00198788,  0.00199586,\n",
              "         0.00200388,  0.00201193,  0.00202001, -0.01797188,  0.00203626],\n",
              "       [ 0.00196412,  0.00197201,  0.00197993,  0.00198788,  0.00199586,\n",
              "         0.00200388,  0.00201193,  0.00202001,  0.00202812, -0.01796374],\n",
              "       [-0.01803588,  0.00197201,  0.00197993,  0.00198788,  0.00199586,\n",
              "         0.00200388,  0.00201193,  0.00202001,  0.00202812,  0.00203626],\n",
              "       [ 0.00196412, -0.01802799,  0.00197993,  0.00198788,  0.00199586,\n",
              "         0.00200388,  0.00201193,  0.00202001,  0.00202812,  0.00203626],\n",
              "       [ 0.00196412,  0.00197201, -0.01802007,  0.00198788,  0.00199586,\n",
              "         0.00200388,  0.00201193,  0.00202001,  0.00202812,  0.00203626],\n",
              "       [ 0.00196412,  0.00197201,  0.00197993, -0.01801212,  0.00199586,\n",
              "         0.00200388,  0.00201193,  0.00202001,  0.00202812,  0.00203626],\n",
              "       [ 0.00196412,  0.00197201,  0.00197993,  0.00198788, -0.01800414,\n",
              "         0.00200388,  0.00201193,  0.00202001,  0.00202812,  0.00203626],\n",
              "       [ 0.00196412,  0.00197201,  0.00197993,  0.00198788,  0.00199586,\n",
              "        -0.01799612,  0.00201193,  0.00202001,  0.00202812,  0.00203626],\n",
              "       [ 0.00196412,  0.00197201,  0.00197993,  0.00198788,  0.00199586,\n",
              "         0.00200388, -0.01798807,  0.00202001,  0.00202812,  0.00203626],\n",
              "       [ 0.00196412,  0.00197201,  0.00197993,  0.00198788,  0.00199586,\n",
              "         0.00200388,  0.00201193, -0.01797999,  0.00202812,  0.00203626],\n",
              "       [ 0.00196412,  0.00197201,  0.00197993,  0.00198788,  0.00199586,\n",
              "         0.00200388,  0.00201193,  0.00202001, -0.01797188,  0.00203626],\n",
              "       [ 0.00196412,  0.00197201,  0.00197993,  0.00198788,  0.00199586,\n",
              "         0.00200388,  0.00201193,  0.00202001,  0.00202812, -0.01796374]])"
            ]
          },
          "metadata": {
            "tags": []
          },
          "execution_count": 53
        }
      ]
    },
    {
      "metadata": {
        "id": "aK62PGU9k7nY",
        "colab_type": "code",
        "colab": {}
      },
      "cell_type": "code",
      "source": [
        "logits = np.linspace(-1,1,500).reshape([50,10])\n",
        "answers = np.arange(50)%10\n",
        "\n",
        "softmax_crossentropy_with_logits(logits,answers)\n",
        "grads = grad_softmax_crossentropy_with_logits(logits,answers)\n",
        "numeric_grads = eval_numerical_gradient(lambda l: softmax_crossentropy_with_logits(l,answers).mean(),logits)\n",
        "\n",
        "assert np.allclose(numeric_grads,grads,rtol=1e-3,atol=0), \"The reference implementation has just failed. Someone has just changed the rules of math.\""
      ],
      "execution_count": 0,
      "outputs": []
    },
    {
      "metadata": {
        "id": "YtDxg--6k7ni",
        "colab_type": "text"
      },
      "cell_type": "markdown",
      "source": [
        "### Full network\n",
        "\n",
        "Now let's combine what we've just built into a working neural network. As we announced, we're gonna use this monster to classify handwritten digits, so let's get them loaded."
      ]
    },
    {
      "metadata": {
        "id": "20mFVcLdk7nl",
        "colab_type": "code",
        "outputId": "952619c7-4d12-4984-a434-766ea7c3320d",
        "colab": {
          "base_uri": "https://localhost:8080/",
          "height": 389
        }
      },
      "cell_type": "code",
      "source": [
        "import matplotlib.pyplot as plt\n",
        "%matplotlib inline\n",
        "\n",
        "from mnist import load_dataset\n",
        "X_train, y_train, X_val, y_val, X_test, y_test = load_dataset(flatten=True)\n",
        "\n",
        "plt.figure(figsize=[6,6])\n",
        "for i in range(4):\n",
        "    plt.subplot(2,2,i+1)\n",
        "    plt.title(\"Label: %i\"%y_train[i])\n",
        "    plt.imshow(X_train[i].reshape([28,28]),cmap='gray');"
      ],
      "execution_count": 55,
      "outputs": [
        {
          "output_type": "display_data",
          "data": {
            "image/png": "[encoded data removed]",
            "text/plain": [
              "<matplotlib.figure.Figure at 0x7facbfefe080>"
            ]
          },
          "metadata": {
            "tags": []
          }
        }
      ]
    },
    {
      "metadata": {
        "id": "nHO1MLWTk7ol",
        "colab_type": "text"
      },
      "cell_type": "markdown",
      "source": [
        "We'll define network as a list of layers, each applied on top of previous one. In this setting, computing predictions and training becomes trivial."
      ]
    },
    {
      "metadata": {
        "id": "ugDLU5tck7op",
        "colab_type": "code",
        "colab": {}
      },
      "cell_type": "code",
      "source": [
        "network = []\n",
        "network.append(Dense(X_train.shape[1], 100))\n",
        "network.append(ReLU())\n",
        "network.append(Dense(100, 200))\n",
        "network.append(ReLU())\n",
        "network.append(Dense(200, 10))"
      ],
      "execution_count": 0,
      "outputs": []
    },
    {
      "metadata": {
        "id": "IrWF4GCjk7o-",
        "colab_type": "code",
        "colab": {}
      },
      "cell_type": "code",
      "source": [
        "def forward(network, X):\n",
        "    \"\"\"\n",
        "    Compute activations of all network layers by applying them sequentially.\n",
        "    Return a list of activations for each layer. \n",
        "    Make sure last activation corresponds to network logits.\n",
        "    \"\"\"\n",
        "    activations = []\n",
        "    input = X\n",
        "\n",
        "    for l in network:\n",
        "      activations.append(l.forward(input))\n",
        "      input = activations[-1]\n",
        "        \n",
        "    assert len(activations) == len(network)\n",
        "    return activations\n",
        "\n",
        "def predict(network, X):\n",
        "    \"\"\"\n",
        "    Use network to predict the most likely class for each sample.\n",
        "    \"\"\"\n",
        "    logits = forward(network, X)[-1]\n",
        "    return logits.argmax(axis=-1)"
      ],
      "execution_count": 0,
      "outputs": []
    },
    {
      "metadata": {
        "id": "6CELTHsBk7pk",
        "colab_type": "text"
      },
      "cell_type": "markdown",
      "source": [
        "### Backprop\n",
        "\n",
        "You can now define the backpropagation step for the neural network. Please read the docstring."
      ]
    },
    {
      "metadata": {
        "id": "cOtuNL9xk7pn",
        "colab_type": "code",
        "colab": {}
      },
      "cell_type": "code",
      "source": [
        "def train(network,X,y):\n",
        "    \"\"\"\n",
        "    Train your network on a given batch of X and y.\n",
        "    You first need to run forward to get all layer activations.\n",
        "    You can estimate loss and loss_grad, obtaining dL / dy_pred\n",
        "    Then you can run layer.backward going from last layer to first, \n",
        "    propagating the gradient of input to previous layers.\n",
        "    \n",
        "    After you called backward for all layers, all Dense layers have already made one gradient step.\n",
        "    \"\"\"\n",
        "    \n",
        "    # Get the layer activations\n",
        "    layer_activations = forward(network,X)\n",
        "    layer_inputs = [X] + layer_activations  #layer_input[i] is an input for network[i]\n",
        "    logits = layer_activations[-1]\n",
        "    \n",
        "    # Compute the loss and the initial gradient\n",
        "    loss = softmax_crossentropy_with_logits(logits,y)\n",
        "    loss_grad = grad_softmax_crossentropy_with_logits(logits,y)\n",
        "    \n",
        "    \n",
        "    # propagate gradients through network layers using .backward\n",
        "    # hint: start from last layer and move to earlier layers\n",
        "    for layer_index in range(len(network))[::-1]:\n",
        "        layer = network[layer_index]\n",
        "        \n",
        "        loss_grad = layer.backward(layer_inputs[layer_index],loss_grad) #grad w.r.t. input, also weight updates\n",
        "        \n",
        "    return np.mean(loss)"
      ],
      "execution_count": 0,
      "outputs": []
    },
    {
      "metadata": {
        "id": "Suab2P0Tk7p9",
        "colab_type": "text"
      },
      "cell_type": "markdown",
      "source": [
        "Instead of tests, we provide you with a training loop that prints training and validation accuracies on every epoch.\n",
        "\n",
        "If your implementation of forward and backward are correct, your accuracy should grow from 90~93% to >97% with the default network."
      ]
    },
    {
      "metadata": {
        "id": "cnKyARFJk7qA",
        "colab_type": "text"
      },
      "cell_type": "markdown",
      "source": [
        "### Training loop\n",
        "\n",
        "As usual, we split data into minibatches, feed each such minibatch into the network and update weights."
      ]
    },
    {
      "metadata": {
        "id": "uQrq8QMyk7qO",
        "colab_type": "code",
        "colab": {}
      },
      "cell_type": "code",
      "source": [
        "from tqdm import trange\n",
        "def iterate_minibatches(inputs, targets, batchsize, shuffle=False):\n",
        "    assert len(inputs) == len(targets)\n",
        "    if shuffle:\n",
        "        indices = np.random.permutation(len(inputs))\n",
        "    for start_idx in trange(0, len(inputs) - batchsize + 1, batchsize):\n",
        "        if shuffle:\n",
        "            excerpt = indices[start_idx:start_idx + batchsize]\n",
        "        else:\n",
        "            excerpt = slice(start_idx, start_idx + batchsize)\n",
        "        yield inputs[excerpt], targets[excerpt]"
      ],
      "execution_count": 0,
      "outputs": []
    },
    {
      "metadata": {
        "id": "u9aIIfkFk7qp",
        "colab_type": "code",
        "colab": {}
      },
      "cell_type": "code",
      "source": [
        "from IPython.display import clear_output\n",
        "train_log = []\n",
        "val_log = []"
      ],
      "execution_count": 0,
      "outputs": []
    },
    {
      "metadata": {
        "id": "l_GuK-uDk7q4",
        "colab_type": "code",
        "colab": {
          "base_uri": "https://localhost:8080/",
          "height": 316
        },
        "outputId": "9a7d97af-f178-4b2a-ee47-950a46aeffd5"
      },
      "cell_type": "code",
      "source": [
        "for epoch in range(25):\n",
        "\n",
        "    for x_batch,y_batch in iterate_minibatches(X_train, y_train, batchsize=32, shuffle=True):\n",
        "        train(network, x_batch, y_batch)\n",
        "    \n",
        "    train_log.append(np.mean(predict(network, X_train) == y_train))\n",
        "    val_log.append(np.mean(predict(network, X_val) == y_val))\n",
        "    \n",
        "    clear_output()\n",
        "    print(\"Epoch\",epoch)\n",
        "    print(\"Train accuracy:\",train_log[-1])\n",
        "    print(\"Val accuracy:\",val_log[-1])\n",
        "    plt.plot(train_log,label='train accuracy')\n",
        "    plt.plot(val_log,label='val accuracy')\n",
        "    plt.legend(loc='best')\n",
        "    plt.grid()\n",
        "    plt.show()\n",
        "    "
      ],
      "execution_count": 68,
      "outputs": [
        {
          "output_type": "stream",
          "text": [
            "Epoch 24\n",
            "Train accuracy: 1.0\n",
            "Val accuracy: 0.9799\n"
          ],
          "name": "stdout"
        },
        {
          "output_type": "display_data",
          "data": {
            "image/png": "[encoded data removed]",
            "text/plain": [
              "<matplotlib.figure.Figure at 0x7facbc6865f8>"
            ]
          },
          "metadata": {
            "tags": []
          }
        }
      ]
    },
    {
      "metadata": {
        "id": "fKS5KpPKLHNk",
        "colab_type": "code",
        "colab": {}
      },
      "cell_type": "code",
      "source": [
        ""
      ],
      "execution_count": 0,
      "outputs": []
    },
    {
      "metadata": {
        "id": "B4zZXvN2k7q_",
        "colab_type": "text"
      },
      "cell_type": "markdown",
      "source": [
        "__What should you see:__ `train accuracy` should increase to near-100%. Val accuracy will also increase, allbeit to a smaller value.\n",
        "\n",
        "__What else to try:__ You can try implementing different nonlinearities, dropout or composing neural network of more layers. See how this affects training speed, overfitting & final quality.\n",
        "\n",
        "Good hunting!"
      ]
    },
    {
      "metadata": {
        "id": "cl55zvQHk7rF",
        "colab_type": "code",
        "colab": {}
      },
      "cell_type": "code",
      "source": [
        "# and yes, it's perfectly legal to reuse your code from this seminar in homework01."
      ],
      "execution_count": 0,
      "outputs": []
    }
  ]
}