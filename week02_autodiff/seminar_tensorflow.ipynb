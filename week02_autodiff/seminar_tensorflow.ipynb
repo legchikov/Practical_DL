{
  "nbformat": 4,
  "nbformat_minor": 0,
  "metadata": {
    "colab": {
      "name": "seminar_tensorflow.ipynb",
      "version": "0.3.2",
      "provenance": [],
      "toc_visible": true,
      "include_colab_link": true
    },
    "kernelspec": {
      "display_name": "Python 3",
      "language": "python",
      "name": "python3"
    }
  },
  "cells": [
    {
      "cell_type": "markdown",
      "metadata": {
        "id": "view-in-github",
        "colab_type": "text"
      },
      "source": [
        "<a href=\"https://colab.research.google.com/github/legchikov/Practical_DL/blob/fall18/week02_autodiff/seminar_tensorflow.ipynb\" target=\"_parent\"><img src=\"https://colab.research.google.com/assets/colab-badge.svg\" alt=\"Open In Colab\"/></a>"
      ]
    },
    {
      "metadata": {
        "id": "AKb8gPrd7t5W",
        "colab_type": "text"
      },
      "cell_type": "markdown",
      "source": [
        "# Down the rabbit hole with Tensorflow\n",
        "\n",
        "![img](https://lh3.googleusercontent.com/I1Dpp7I9RZIGl0rVMlPfnhfl-bkl_2uDHZwVC87BWmqtPaAs1irMWOdJxTmTEQJB-VGfLryCyHxqvyNchVIVLL-vqGrF3Q=s688)\n",
        "\n",
        "In this seminar, we're going to play with [Tensorflow](https://www.tensorflow.org/) and see how it helps you build deep learning models.\n",
        "\n",
        "If you're running this notebook outside the course environment, you'll need to install tensorflow:\n",
        "* `pip install tensorflow` should install cpu-only TF on Linux & Mac OS\n",
        "* If you want GPU support from offset, see [TF install page](https://www.tensorflow.org/install/)"
      ]
    },
    {
      "metadata": {
        "id": "b7QBA9LL7t5j",
        "colab_type": "code",
        "colab": {}
      },
      "cell_type": "code",
      "source": [
        "import numpy as np\n",
        "import matplotlib.pyplot as plt\n",
        "%matplotlib inline"
      ],
      "execution_count": 0,
      "outputs": []
    },
    {
      "metadata": {
        "id": "--scDLrT7t50",
        "colab_type": "code",
        "colab": {}
      },
      "cell_type": "code",
      "source": [
        "import tensorflow as tf\n",
        "\n",
        "# session is main tensorflow object. You ask session to compute stuff for you.\n",
        "sess = tf.InteractiveSession()"
      ],
      "execution_count": 0,
      "outputs": []
    },
    {
      "metadata": {
        "id": "4g1m4rfN7t58",
        "colab_type": "text"
      },
      "cell_type": "markdown",
      "source": [
        "# Warming up\n",
        "For starters, let's implement a python function that computes the sum of squares of numbers from 0 to N-1.\n",
        "* Use numpy or python\n",
        "* An array of numbers 0 to N - numpy.arange(N)"
      ]
    },
    {
      "metadata": {
        "id": "ArHUPXT97t5-",
        "colab_type": "code",
        "colab": {}
      },
      "cell_type": "code",
      "source": [
        "def sum_squares(N):\n",
        "    return sum(i*i for i in range(N))"
      ],
      "execution_count": 0,
      "outputs": []
    },
    {
      "metadata": {
        "id": "ltO9Usr0929D",
        "colab_type": "code",
        "colab": {}
      },
      "cell_type": "code",
      "source": [
        "# https://codereview.stackexchange.com/questions/58460/sum-of-squares-square-of-sum-difference\n",
        "# https://trans4mind.com/personal_development/mathematics/series/sumNaturalSquares.htm\n",
        "def sum_squares_O1(n):\n",
        "    return n*(n+1)*(2*n+1)/6"
      ],
      "execution_count": 0,
      "outputs": []
    },
    {
      "metadata": {
        "id": "Er7_XayP7t6D",
        "colab_type": "code",
        "outputId": "1e27d954-88c6-43f8-dd2c-d2123bbe7e80",
        "colab": {
          "base_uri": "https://localhost:8080/",
          "height": 68
        }
      },
      "cell_type": "code",
      "source": [
        "%%time\n",
        "sum_squares(10**8)"
      ],
      "execution_count": 0,
      "outputs": [
        {
          "output_type": "stream",
          "text": [
            "CPU times: user 13.8 s, sys: 3.76 ms, total: 13.8 s\n",
            "Wall time: 13.8 s\n"
          ],
          "name": "stdout"
        },
        {
          "output_type": "execute_result",
          "data": {
            "text/plain": [
              "333333328333333350000000"
            ]
          },
          "metadata": {
            "tags": []
          },
          "execution_count": 5
        }
      ]
    },
    {
      "metadata": {
        "id": "fNeMPGUj-I5O",
        "colab_type": "code",
        "outputId": "31822b29-31dc-454a-83e7-28c875e7790f",
        "colab": {
          "base_uri": "https://localhost:8080/",
          "height": 68
        }
      },
      "cell_type": "code",
      "source": [
        "%%time\n",
        "sum_squares_O1(10**8)"
      ],
      "execution_count": 0,
      "outputs": [
        {
          "output_type": "stream",
          "text": [
            "CPU times: user 9 µs, sys: 0 ns, total: 9 µs\n",
            "Wall time: 15.5 µs\n"
          ],
          "name": "stdout"
        },
        {
          "output_type": "execute_result",
          "data": {
            "text/plain": [
              "3.333333383333333e+23"
            ]
          },
          "metadata": {
            "tags": []
          },
          "execution_count": 6
        }
      ]
    },
    {
      "metadata": {
        "id": "nwRSU4BW7t6H",
        "colab_type": "text"
      },
      "cell_type": "markdown",
      "source": [
        "__Same with tensorflow__"
      ]
    },
    {
      "metadata": {
        "id": "Yfh65COi7t6J",
        "colab_type": "code",
        "colab": {}
      },
      "cell_type": "code",
      "source": [
        "# \"i will insert N here later\"\n",
        "N = tf.placeholder('int64', name=\"input_to_your_function\")\n",
        "\n",
        "# a recipe on how to produce {sum of squares of arange of N} given N\n",
        "result = tf.reduce_sum((tf.range(N)**2))"
      ],
      "execution_count": 0,
      "outputs": []
    },
    {
      "metadata": {
        "id": "1nUyvOBj7t6O",
        "colab_type": "code",
        "outputId": "fd4d9805-6f8a-4a79-d16b-9c9d05cebe46",
        "colab": {
          "base_uri": "https://localhost:8080/",
          "height": 68
        }
      },
      "cell_type": "code",
      "source": [
        "%%time\n",
        "\n",
        "# dear session, compute the result please. Here's your N.\n",
        "print(sess.run(result, {N: 10**8}))\n",
        "\n",
        "# hint: run it several times to let tensorflow \"warm up\""
      ],
      "execution_count": 0,
      "outputs": [
        {
          "output_type": "stream",
          "text": [
            "662921401752298880\n",
            "CPU times: user 581 ms, sys: 653 ms, total: 1.23 s\n",
            "Wall time: 1.05 s\n"
          ],
          "name": "stdout"
        }
      ]
    },
    {
      "metadata": {
        "id": "Tk6iiwdX7t6S",
        "colab_type": "text"
      },
      "cell_type": "markdown",
      "source": [
        "# How it works: computation graphs\n",
        "\n",
        "\n",
        "1. create placeholders for future inputs;\n",
        "2. define symbolic graph: a recipe for mathematical transformation of those placeholders;\n",
        "3. compute outputs of your graph with particular values for each placeholder\n",
        "  * ```sess.run(outputs, {placeholder1:value1, placeholder2:value2})```\n",
        "  * OR output.eval({placeholder:value}) \n",
        "\n",
        "Still confused? We gonna fix that."
      ]
    },
    {
      "metadata": {
        "id": "q7aQtiTf7t6T",
        "colab_type": "text"
      },
      "cell_type": "markdown",
      "source": [
        "__Placeholders and constants__"
      ]
    },
    {
      "metadata": {
        "id": "7rCLRtyv7t6U",
        "colab_type": "code",
        "colab": {}
      },
      "cell_type": "code",
      "source": [
        "# placeholder that can be arbitrary float32 scalar, vertor, matrix, etc.\n",
        "arbitrary_input = tf.placeholder('float32')\n",
        "\n",
        "# input vector of arbitrary length\n",
        "input_vector = tf.placeholder('float32',shape=(None,))\n",
        "\n",
        "# input vector that _must_ have 10 elements and integer type\n",
        "fixed_vector = tf.placeholder('int32',shape=(10,))\n",
        "\n",
        "# you can generally use None whenever you don't need a specific shape\n",
        "input1 = tf.placeholder('float64',shape=(None, 100, None))\n",
        "input2 = tf.placeholder('int32',shape=(None, None, 3, 224, 224))"
      ],
      "execution_count": 0,
      "outputs": []
    },
    {
      "metadata": {
        "id": "yB8CxWQS7t6a",
        "colab_type": "text"
      },
      "cell_type": "markdown",
      "source": [
        "You can create new __tensors__ with arbitrary operations on placeholders, constants and other tensors.\n",
        "\n",
        "* tf.reduce_sum(tf.arange(N)\\**2) are 3 sequential transformations of placeholder N\n",
        "* there's a tensorflow symbolic version for every numpy function\n",
        "  * `a + b, a / b, a ** b, ...` behave just like in numpy\n",
        "  * np.zeros -> tf.zeros\n",
        "  * np.sin -> tf.sin\n",
        "  * np.mean -> tf.reduce_mean\n",
        "  * np.arange -> tf.range\n",
        "  \n",
        "There are tons of other stuff in tensorflow, see the [docs](https://www.tensorflow.org/api_docs/python) or learn as you go with __shift+tab__."
      ]
    },
    {
      "metadata": {
        "id": "gF4ZpQsv7t6d",
        "colab_type": "code",
        "colab": {}
      },
      "cell_type": "code",
      "source": [
        "# elementwise multiplication\n",
        "double_the_vector = input_vector * 2\n",
        "\n",
        "# elementwise cosine\n",
        "elementwise_cosine = tf.cos(input_vector)\n",
        "\n",
        "# elementwise difference between squared vector and it's means - with some random salt\n",
        "vector_squares = input_vector ** 2 - tf.reduce_mean(input_vector) + tf.random_normal(tf.shape(input_vector))\n"
      ],
      "execution_count": 0,
      "outputs": []
    },
    {
      "metadata": {
        "id": "GFKT67nEZKSh",
        "colab_type": "code",
        "outputId": "be155eb9-4f9d-4a44-c922-b3c09b17df72",
        "colab": {
          "base_uri": "https://localhost:8080/",
          "height": 238
        }
      },
      "cell_type": "code",
      "source": [
        "! wget https://bin.equinox.io/c/4VmDzA7iaHb/ngrok-stable-linux-amd64.zip\n",
        "! unzip ngrok-stable-linux-amd64.zip"
      ],
      "execution_count": 0,
      "outputs": [
        {
          "output_type": "stream",
          "text": [
            "--2018-11-12 15:35:39--  https://bin.equinox.io/c/4VmDzA7iaHb/ngrok-stable-linux-amd64.zip\n",
            "Resolving bin.equinox.io (bin.equinox.io)... 54.174.228.92, 54.164.206.44, 52.44.92.122, ...\n",
            "Connecting to bin.equinox.io (bin.equinox.io)|54.174.228.92|:443... connected.\n",
            "HTTP request sent, awaiting response... 200 OK\n",
            "Length: 5363700 (5.1M) [application/octet-stream]\n",
            "Saving to: ‘ngrok-stable-linux-amd64.zip’\n",
            "\n",
            "ngrok-stable-linux- 100%[===================>]   5.11M  9.87MB/s    in 0.5s    \n",
            "\n",
            "2018-11-12 15:35:40 (9.87 MB/s) - ‘ngrok-stable-linux-amd64.zip’ saved [5363700/5363700]\n",
            "\n",
            "Archive:  ngrok-stable-linux-amd64.zip\n",
            "  inflating: ngrok                   \n"
          ],
          "name": "stdout"
        }
      ]
    },
    {
      "metadata": {
        "id": "Xj86wgMIZHDJ",
        "colab_type": "code",
        "colab": {}
      },
      "cell_type": "code",
      "source": [
        "LOG_DIR = '/tmp/log'"
      ],
      "execution_count": 0,
      "outputs": []
    },
    {
      "metadata": {
        "id": "6DuQuIJ7iIsV",
        "colab_type": "code",
        "colab": {}
      },
      "cell_type": "code",
      "source": [
        "# summary_writer = tf.train.FileWriter(LOG_DIR, sess.graph_def)\n",
        "get_ipython().system_raw(\n",
        "    'tensorboard --logdir {} --host 0.0.0.0 --port 6006 &'\n",
        "    .format(LOG_DIR)\n",
        ")"
      ],
      "execution_count": 0,
      "outputs": []
    },
    {
      "metadata": {
        "id": "WBHWs-tSZYKZ",
        "colab_type": "code",
        "colab": {}
      },
      "cell_type": "code",
      "source": [
        "get_ipython().system_raw('./ngrok http 6006 &')"
      ],
      "execution_count": 0,
      "outputs": []
    },
    {
      "metadata": {
        "id": "T5omYFhqZbU-",
        "colab_type": "code",
        "outputId": "704ce1e5-18b3-4e65-c47b-5eabe0b63a64",
        "colab": {
          "base_uri": "https://localhost:8080/",
          "height": 34
        }
      },
      "cell_type": "code",
      "source": [
        "! curl -s http://localhost:4040/api/tunnels | python3 -c \\\n",
        "    \"import sys, json; print(json.load(sys.stdin)['tunnels'][0]['public_url'])\""
      ],
      "execution_count": 0,
      "outputs": [
        {
          "output_type": "stream",
          "text": [
            "http://989d0ed5.ngrok.io\n"
          ],
          "name": "stdout"
        }
      ]
    },
    {
      "metadata": {
        "id": "S01T3tkyjNBv",
        "colab_type": "code",
        "colab": {}
      },
      "cell_type": "code",
      "source": [
        "!rm /tmp/log/*"
      ],
      "execution_count": 0,
      "outputs": []
    },
    {
      "metadata": {
        "id": "Gpdnu8F1iWF-",
        "colab_type": "code",
        "outputId": "96c4f8ac-219d-4b9a-89df-941419d3608c",
        "colab": {
          "base_uri": "https://localhost:8080/",
          "height": 34
        }
      },
      "cell_type": "code",
      "source": [
        "!ls /tmp/log/"
      ],
      "execution_count": 0,
      "outputs": [
        {
          "output_type": "stream",
          "text": [
            "ls: cannot access '/tmp/log/': No such file or directory\n"
          ],
          "name": "stdout"
        }
      ]
    },
    {
      "metadata": {
        "id": "DlCJQWPO7t6g",
        "colab_type": "text"
      },
      "cell_type": "markdown",
      "source": [
        "## Practice 1: polar pretzels\n",
        "_inspired by [this post](https://www.quora.com/What-are-the-most-interesting-equation-plots)_\n",
        "\n",
        "There are some simple mathematical functions with cool plots. For one, consider this:\n",
        "\n",
        "$$ x(t) = t - 1.5 * cos( 15 t) $$\n",
        "$$ y(t) = t - 1.5 * sin( 16 t) $$\n"
      ]
    },
    {
      "metadata": {
        "id": "F267dUKg7t6i",
        "colab_type": "code",
        "outputId": "7d97231e-827d-48ea-a920-2be72bdf2b29",
        "colab": {
          "base_uri": "https://localhost:8080/",
          "height": 265
        }
      },
      "cell_type": "code",
      "source": [
        "t = tf.placeholder('float32')\n",
        "\n",
        "\n",
        "# compute x(t) and y(t) as defined above.\n",
        "x = t - 1.5* tf.cos(15*t)\n",
        "y = t - 1.5* tf.sin(16*t)\n",
        "\n",
        "\n",
        "x_points, y_points = sess.run([x, y], {t: np.linspace(-10, 10, num=10000)})\n",
        "plt.plot(x_points, y_points);\n",
        "\n",
        "writer = tf.summary.FileWriter(LOG_DIR, graph=sess.graph)"
      ],
      "execution_count": 0,
      "outputs": [
        {
          "output_type": "display_data",
          "data": {
            "image/png": "[encoded data removed]",
            "text/plain": [
              "<matplotlib.figure.Figure at 0x7fa9db08a978>"
            ]
          },
          "metadata": {
            "tags": []
          }
        }
      ]
    },
    {
      "metadata": {
        "id": "jZGYSgX07t6m",
        "colab_type": "text"
      },
      "cell_type": "markdown",
      "source": [
        "### Visualizing graphs with Tensorboard\n",
        "\n",
        "It's often useful to visualize the computation graph when debugging or optimizing. \n",
        "Interactive visualization is where tensorflow really shines as compared to other frameworks. \n",
        "\n",
        "There's a special instrument for that, called Tensorboard. You can launch it from console:\n",
        "\n",
        "__```tensorboard --logdir=/tmp/tboard --port=7007```__\n",
        "\n",
        "If you're pathologically afraid of consoles, try this:\n",
        "\n",
        "__```import os; os.system(\"tensorboard --logdir=/tmp/tboard --port=7007 &\")```__\n",
        "\n",
        "_(but don't tell anyone we taught you that)_"
      ]
    },
    {
      "metadata": {
        "id": "sj5e6KhO7t6o",
        "colab_type": "text"
      },
      "cell_type": "markdown",
      "source": [
        "One basic functionality of tensorboard is drawing graphs. One you've run the cell above, go to `localhost:7007` in your browser and switch to _graphs_ tab in the topbar. \n",
        "\n",
        "Here's what you should see:\n",
        "\n",
        "<img src=\"https://www.tensorflow.org/images/graph_vis_animation.gif\" width=480>\n",
        "\n",
        "Tensorboard also allows you to draw graphs (e.g. learning curves), record images & audio ~~and play flash games~~. This is useful when monitoring learning progress and catching some training issues.\n",
        "\n",
        "One researcher said:\n",
        "```\n",
        "If you spent last four hours of your worktime watching as your algorithm prints numbers and draws figures, you're probably doing deep learning wrong.\n",
        "```"
      ]
    },
    {
      "metadata": {
        "id": "x4CcmKiP7t6p",
        "colab_type": "text"
      },
      "cell_type": "markdown",
      "source": [
        "You can read more on tensorboard usage [here](https://www.tensorflow.org/get_started/graph_viz)"
      ]
    },
    {
      "metadata": {
        "id": "vo9kL1nz7t6q",
        "colab_type": "text"
      },
      "cell_type": "markdown",
      "source": [
        "# Practice 2: mean squared error\n"
      ]
    },
    {
      "metadata": {
        "id": "0MW0dB9q7t6s",
        "colab_type": "code",
        "colab": {}
      },
      "cell_type": "code",
      "source": [
        "# Quest #1 - implement a function that computes a mean squared error of two input vectors\n",
        "# Your function has to take 2 vectors and return a single number\n",
        "\n",
        "v1 = tf.placeholder('float32',shape=(None,))\n",
        "v2 = tf.placeholder('float32',shape=(None,))\n",
        "\n",
        "mse = tf.reduce_mean(tf.math.square(v1 - v2))\n",
        "\n",
        "compute_mse = lambda vector1, vector2: sess.run(mse, {v1: vector1, v2: vector2})"
      ],
      "execution_count": 0,
      "outputs": []
    },
    {
      "metadata": {
        "id": "J6R8McqeQHza",
        "colab_type": "code",
        "outputId": "55846f62-e8a2-427b-9f98-bdc2af852247",
        "colab": {
          "base_uri": "https://localhost:8080/",
          "height": 34
        }
      },
      "cell_type": "code",
      "source": [
        "v1 = tf.placeholder('float32',shape=(None,))\n",
        "v2 = tf.placeholder('float32',shape=(None,))\n",
        "\n",
        "# q = tf.math.square(v1 - v2)\n",
        "q = tf.math.squared_difference(v1, v2)\n",
        "\n",
        "vector1 = np.array([1, 2])\n",
        "vector2 = np.array([3, 4])\n",
        "print(sess.run(q, {v1: vector1, v2: vector2}))"
      ],
      "execution_count": 0,
      "outputs": [
        {
          "output_type": "stream",
          "text": [
            "[4. 4.]\n"
          ],
          "name": "stdout"
        }
      ]
    },
    {
      "metadata": {
        "id": "RN4QWxPs7t6w",
        "colab_type": "code",
        "outputId": "d3af2e58-3eba-4ec2-8886-3e1d84d771b4",
        "colab": {
          "base_uri": "https://localhost:8080/",
          "height": 34
        }
      },
      "cell_type": "code",
      "source": [
        "# Tests\n",
        "from sklearn.metrics import mean_squared_error\n",
        "\n",
        "for n in [1, 5, 10, 10 ** 3]:\n",
        "    \n",
        "    elems = [np.arange(n),np.arange(n,0,-1), np.zeros(n),\n",
        "             np.ones(n),np.random.random(n),np.random.randint(100,size=n)]\n",
        "    \n",
        "    for el in elems:\n",
        "        for el_2 in elems:\n",
        "            true_mse = np.array(mean_squared_error(el,el_2))\n",
        "            my_mse = compute_mse(el,el_2)\n",
        "            if not np.allclose(true_mse,my_mse):\n",
        "                print('Wrong result:')\n",
        "                print('mse(%s,%s)' % (el,el_2))\n",
        "                print(\"should be: %f, but your function returned %f\" % (true_mse,my_mse))\n",
        "                raise ValueError(\"Что-то не так\")\n",
        "\n",
        "print(\"All tests passed\")    "
      ],
      "execution_count": 0,
      "outputs": [
        {
          "output_type": "stream",
          "text": [
            "All tests passed\n"
          ],
          "name": "stdout"
        }
      ]
    },
    {
      "metadata": {
        "id": "pvCh_c7K7t6x",
        "colab_type": "text"
      },
      "cell_type": "markdown",
      "source": [
        "# Tensorflow variables\n",
        "\n",
        "The inputs and transformations have no value outside function call. That's a bit unnatural if you want your model to have parameters (e.g. network weights) that are always present, but can change their value over time.\n",
        "\n",
        "Tensorflow solves this with `tf.Variable` objects.\n",
        "* You can assign variable a value at any time in your graph\n",
        "* Unlike placeholders, there's no need to explicitly pass values to variables when `s.run(...)`-ing\n",
        "* You can use variables the same way you use transformations \n",
        " "
      ]
    },
    {
      "metadata": {
        "id": "5F6D1Jq97t6y",
        "colab_type": "code",
        "colab": {}
      },
      "cell_type": "code",
      "source": [
        "# creating shared variable\n",
        "shared_vector_1 = tf.Variable(initial_value=np.ones(5))\n",
        "\n",
        "# initialize all variables with initial values\n",
        "sess.run(tf.global_variables_initializer())"
      ],
      "execution_count": 0,
      "outputs": []
    },
    {
      "metadata": {
        "id": "fCMHXA9v7t64",
        "colab_type": "code",
        "colab": {
          "base_uri": "https://localhost:8080/",
          "height": 34
        },
        "outputId": "3c89f985-5ca0-4c4c-cd18-369bfb44699c"
      },
      "cell_type": "code",
      "source": [
        "# evaluating shared variable (outside symbolicd graph)\n",
        "print(\"initial value\", sess.run(shared_vector_1))\n",
        "\n",
        "# within symbolic graph you use them just as any other inout or transformation, not \"get value\" needed"
      ],
      "execution_count": 5,
      "outputs": [
        {
          "output_type": "stream",
          "text": [
            "initial value [1. 1. 1. 1. 1.]\n"
          ],
          "name": "stdout"
        }
      ]
    },
    {
      "metadata": {
        "id": "ap4dRrdV7t6_",
        "colab_type": "code",
        "colab": {
          "base_uri": "https://localhost:8080/",
          "height": 34
        },
        "outputId": "fb4525de-d0a2-4704-e85e-12defc1a1d31"
      },
      "cell_type": "code",
      "source": [
        "# setting new value manually\n",
        "sess.run(shared_vector_1.assign(np.arange(5)))\n",
        "\n",
        "#getting that new value\n",
        "print(\"new value\", sess.run(shared_vector_1))\n"
      ],
      "execution_count": 6,
      "outputs": [
        {
          "output_type": "stream",
          "text": [
            "new value [0. 1. 2. 3. 4.]\n"
          ],
          "name": "stdout"
        }
      ]
    },
    {
      "metadata": {
        "id": "aYBc9UX-7t7G",
        "colab_type": "text"
      },
      "cell_type": "markdown",
      "source": [
        "# tf.gradients - why graphs matter\n",
        "* Tensorflow can compute derivatives and gradients automatically using the computation graph\n",
        "* Gradients are computed as a product of elementary derivatives via chain rule:\n",
        "\n",
        "$$ {\\partial f(g(x)) \\over \\partial x} = {\\partial f(g(x)) \\over \\partial g(x)}\\cdot {\\partial g(x) \\over \\partial x} $$\n",
        "\n",
        "It can get you the derivative of any graph as long as it knows how to differentiate elementary operations"
      ]
    },
    {
      "metadata": {
        "id": "bdzaDm507t7G",
        "colab_type": "code",
        "colab": {}
      },
      "cell_type": "code",
      "source": [
        "my_scalar = tf.placeholder('float32')\n",
        "\n",
        "scalar_squared = my_scalar ** 2\n",
        "\n",
        "#a derivative of scalar_squared by my_scalar\n",
        "derivative = tf.gradients(scalar_squared, [my_scalar])[0]"
      ],
      "execution_count": 0,
      "outputs": []
    },
    {
      "metadata": {
        "id": "-7_LVJsOMnzR",
        "colab_type": "code",
        "colab": {
          "base_uri": "https://localhost:8080/",
          "height": 187
        },
        "outputId": "96c175f7-43f2-4579-9d98-a0a2a778f195"
      },
      "cell_type": "code",
      "source": [
        "x = np.linspace(-3,3)\n",
        "x"
      ],
      "execution_count": 14,
      "outputs": [
        {
          "output_type": "execute_result",
          "data": {
            "text/plain": [
              "array([-3.        , -2.87755102, -2.75510204, -2.63265306, -2.51020408,\n",
              "       -2.3877551 , -2.26530612, -2.14285714, -2.02040816, -1.89795918,\n",
              "       -1.7755102 , -1.65306122, -1.53061224, -1.40816327, -1.28571429,\n",
              "       -1.16326531, -1.04081633, -0.91836735, -0.79591837, -0.67346939,\n",
              "       -0.55102041, -0.42857143, -0.30612245, -0.18367347, -0.06122449,\n",
              "        0.06122449,  0.18367347,  0.30612245,  0.42857143,  0.55102041,\n",
              "        0.67346939,  0.79591837,  0.91836735,  1.04081633,  1.16326531,\n",
              "        1.28571429,  1.40816327,  1.53061224,  1.65306122,  1.7755102 ,\n",
              "        1.89795918,  2.02040816,  2.14285714,  2.26530612,  2.3877551 ,\n",
              "        2.51020408,  2.63265306,  2.75510204,  2.87755102,  3.        ])"
            ]
          },
          "metadata": {
            "tags": []
          },
          "execution_count": 14
        }
      ]
    },
    {
      "metadata": {
        "id": "OjKA1S0TNMH-",
        "colab_type": "code",
        "colab": {
          "base_uri": "https://localhost:8080/",
          "height": 425
        },
        "outputId": "ca116f35-c87a-4e2d-b026-ef41e63387a8"
      },
      "cell_type": "code",
      "source": [
        "x_squared, x_squared_der = sess.run([scalar_squared, derivative], {my_scalar:x})\n",
        "x_squared, x_squared_der"
      ],
      "execution_count": 11,
      "outputs": [
        {
          "output_type": "execute_result",
          "data": {
            "text/plain": [
              "(array([9.0000000e+00, 8.2803001e+00, 7.5905881e+00, 6.9308619e+00,\n",
              "        6.3011246e+00, 5.7013745e+00, 5.1316123e+00, 4.5918365e+00,\n",
              "        4.0820489e+00, 3.6022491e+00, 3.1524365e+00, 2.7326117e+00,\n",
              "        2.3427739e+00, 1.9829239e+00, 1.6530612e+00, 1.3531862e+00,\n",
              "        1.0832986e+00, 8.4339857e-01, 6.3348603e-01, 4.5356098e-01,\n",
              "        3.0362347e-01, 1.8367347e-01, 9.3710959e-02, 3.3735946e-02,\n",
              "        3.7484383e-03, 3.7484383e-03, 3.3735946e-02, 9.3710959e-02,\n",
              "        1.8367347e-01, 3.0362347e-01, 4.5356098e-01, 6.3348603e-01,\n",
              "        8.4339857e-01, 1.0832986e+00, 1.3531862e+00, 1.6530612e+00,\n",
              "        1.9829239e+00, 2.3427739e+00, 2.7326117e+00, 3.1524365e+00,\n",
              "        3.6022491e+00, 4.0820489e+00, 4.5918365e+00, 5.1316123e+00,\n",
              "        5.7013745e+00, 6.3011246e+00, 6.9308619e+00, 7.5905881e+00,\n",
              "        8.2803001e+00, 9.0000000e+00], dtype=float32),\n",
              " array([-6.        , -5.755102  , -5.5102043 , -5.265306  , -5.020408  ,\n",
              "        -4.7755103 , -4.5306125 , -4.285714  , -4.0408163 , -3.7959185 ,\n",
              "        -3.5510204 , -3.3061225 , -3.0612245 , -2.8163266 , -2.5714285 ,\n",
              "        -2.3265307 , -2.0816326 , -1.8367347 , -1.5918367 , -1.3469387 ,\n",
              "        -1.1020408 , -0.85714287, -0.6122449 , -0.36734694, -0.12244898,\n",
              "         0.12244898,  0.36734694,  0.6122449 ,  0.85714287,  1.1020408 ,\n",
              "         1.3469387 ,  1.5918367 ,  1.8367347 ,  2.0816326 ,  2.3265307 ,\n",
              "         2.5714285 ,  2.8163266 ,  3.0612245 ,  3.3061225 ,  3.5510204 ,\n",
              "         3.7959185 ,  4.0408163 ,  4.285714  ,  4.5306125 ,  4.7755103 ,\n",
              "         5.020408  ,  5.265306  ,  5.5102043 ,  5.755102  ,  6.        ],\n",
              "       dtype=float32))"
            ]
          },
          "metadata": {
            "tags": []
          },
          "execution_count": 11
        }
      ]
    },
    {
      "metadata": {
        "id": "1xME4BAi7t7J",
        "colab_type": "code",
        "colab": {
          "base_uri": "https://localhost:8080/",
          "height": 265
        },
        "outputId": "49b111cc-a27b-40f7-bb97-739eb6b06d09"
      },
      "cell_type": "code",
      "source": [
        "plt.plot(x, x_squared,label=\"x^2\")\n",
        "plt.plot(x, x_squared_der, label=\"derivative\")\n",
        "plt.legend();"
      ],
      "execution_count": 8,
      "outputs": [
        {
          "output_type": "display_data",
          "data": {
            "image/png": "[encoded data removed]",
            "text/plain": [
              "<matplotlib.figure.Figure at 0x7f976c4eedd8>"
            ]
          },
          "metadata": {
            "tags": []
          }
        }
      ]
    },
    {
      "metadata": {
        "id": "89_vkT1m7t7N",
        "colab_type": "text"
      },
      "cell_type": "markdown",
      "source": [
        "## Why autograd is cool"
      ]
    },
    {
      "metadata": {
        "id": "6akbBawA7t7N",
        "colab_type": "code",
        "colab": {}
      },
      "cell_type": "code",
      "source": [
        "my_vector = tf.placeholder('float32',[None])\n",
        "\n",
        "#Compute the gradient of the next weird function over my_scalar and my_vector\n",
        "#warning! Trying to understand the meaning of that function may result in permanent brain damage\n",
        "\n",
        "weird_psychotic_function = tf.reduce_mean((my_vector+my_scalar)**(1+tf.nn.moments(my_vector,[0])[1]) + 1./ tf.atan(my_scalar))/(my_scalar**2 + 1) + 0.01*tf.sin(2*my_scalar**1.5)*(tf.reduce_sum(my_vector)* my_scalar**2)*tf.exp((my_scalar-4)**2)/(1+tf.exp((my_scalar-4)**2))*(1.-(tf.exp(-(my_scalar-4)**2))/(1+tf.exp(-(my_scalar-4)**2)))**2\n",
        " \n",
        "der_by_scalar = tf.gradients(weird_psychotic_function, [my_scalar])[0]\n",
        "der_by_vector = tf.gradients(weird_psychotic_function, [my_vector])[0]"
      ],
      "execution_count": 0,
      "outputs": []
    },
    {
      "metadata": {
        "id": "ZSQt_l8H7t7S",
        "colab_type": "code",
        "colab": {
          "base_uri": "https://localhost:8080/",
          "height": 265
        },
        "outputId": "6d342cba-90c3-4c54-e789-024fd93c8b30"
      },
      "cell_type": "code",
      "source": [
        "#Plotting your derivative\n",
        "scalar_space = np.linspace(1, 7, 100)\n",
        "\n",
        "y = [sess.run(weird_psychotic_function, {my_scalar:x, my_vector:[1, 2, 3]})\n",
        "     for x in scalar_space]\n",
        "\n",
        "plt.plot(scalar_space, y, label='function')\n",
        "\n",
        "y_der_by_scalar = [sess.run(der_by_scalar, {my_scalar:x, my_vector:[1, 2, 3]})\n",
        "     for x in scalar_space]\n",
        "\n",
        "plt.plot(scalar_space, y_der_by_scalar, label='derivative')\n",
        "plt.grid()\n",
        "plt.legend();"
      ],
      "execution_count": 17,
      "outputs": [
        {
          "output_type": "display_data",
          "data": {
            "image/png": "[encoded data removed]",
            "text/plain": [
              "<matplotlib.figure.Figure at 0x7f974179c898>"
            ]
          },
          "metadata": {
            "tags": []
          }
        }
      ]
    },
    {
      "metadata": {
        "id": "auDBHNLV7t7V",
        "colab_type": "text"
      },
      "cell_type": "markdown",
      "source": [
        "# Almost done - optimizers\n",
        "\n",
        "While you can perform gradient descent by hand with automatic grads from above, tensorflow also has some optimization methods implemented for you. Recall momentum & rmsprop?"
      ]
    },
    {
      "metadata": {
        "id": "WAQA8UjW7t7W",
        "colab_type": "code",
        "colab": {}
      },
      "cell_type": "code",
      "source": [
        "y_guess = tf.Variable(np.zeros(2,dtype='float32'))\n",
        "y_true = tf.range(1,3,dtype='float32')\n",
        "\n",
        "loss = tf.reduce_mean((y_guess - y_true + tf.random_normal([2]))**2) \n",
        "\n",
        "optimizer = tf.train.MomentumOptimizer(0.01,0.9).minimize(loss,var_list=y_guess)\n",
        "\n",
        "# same, but more detailed:\n",
        "# updates = [[tf.gradients(loss,y_guess)[0], y_guess]]\n",
        "# optimizer = tf.train.MomentumOptimizer(0.01,0.9).apply_gradients(updates)"
      ],
      "execution_count": 0,
      "outputs": []
    },
    {
      "metadata": {
        "scrolled": true,
        "id": "VEmSn4HD7t7Y",
        "colab_type": "code",
        "colab": {
          "base_uri": "https://localhost:8080/",
          "height": 268
        },
        "outputId": "37d5eb0d-cb3c-4d45-839e-f55f77d2944c"
      },
      "cell_type": "code",
      "source": [
        "from IPython.display import clear_output\n",
        "\n",
        "sess.run(tf.global_variables_initializer())\n",
        "\n",
        "guesses = [sess.run(y_guess)]\n",
        "\n",
        "for _ in range(100):\n",
        "    sess.run(optimizer)\n",
        "    guesses.append(sess.run(y_guess))\n",
        "    \n",
        "    clear_output(True)\n",
        "    plt.plot(*zip(*guesses), marker='.')\n",
        "    plt.scatter(*sess.run(y_true), c='red')\n",
        "    plt.show()"
      ],
      "execution_count": 19,
      "outputs": [
        {
          "output_type": "display_data",
          "data": {
            "image/png": "[encoded data removed]",
            "text/plain": [
              "<matplotlib.figure.Figure at 0x7f9740449cf8>"
            ]
          },
          "metadata": {
            "tags": []
          }
        }
      ]
    },
    {
      "metadata": {
        "id": "tRJbP-P87t7a",
        "colab_type": "text"
      },
      "cell_type": "markdown",
      "source": [
        "# Logistic regression example\n",
        "Implement the regular logistic regression training algorithm\n",
        " \n",
        "We shall train on a two-class MNIST dataset. \n",
        "\n",
        "This is a binary classification problem, so we'll train a __Logistic Regression with sigmoid__.\n",
        "$$P(y_i | X_i) = \\sigma(W \\cdot X_i + b) ={ 1 \\over {1+e^{- [W \\cdot X_i + b]}} }$$\n",
        "\n",
        "\n",
        "The natural choice of loss function is to use binary crossentropy (aka logloss, negative llh):\n",
        "$$ L = {1 \\over N} \\underset{X_i,y_i} \\sum - [  y_i \\cdot log P(y_i | X_i) + (1-y_i) \\cdot log (1-P(y_i | X_i)) ]$$\n",
        "\n",
        "Mind the minus :)\n"
      ]
    },
    {
      "metadata": {
        "id": "nnubMBo07t7b",
        "colab_type": "code",
        "colab": {}
      },
      "cell_type": "code",
      "source": [
        "from sklearn.datasets import load_digits\n",
        "X, y = load_digits(2, return_X_y=True)\n",
        "\n",
        "print(\"y [shape - %s]:\" % (str(y.shape)), y[:10])\n",
        "print(\"X [shape - %s]:\" % (str(X.shape)))"
      ],
      "execution_count": 0,
      "outputs": []
    },
    {
      "metadata": {
        "id": "pPrTXXSY7t7d",
        "colab_type": "code",
        "colab": {}
      },
      "cell_type": "code",
      "source": [
        "print('X:\\n', X[:3,:10])\n",
        "print('y:\\n', y[:10])\n",
        "plt.imshow(X[0].reshape([8,8]))"
      ],
      "execution_count": 0,
      "outputs": []
    },
    {
      "metadata": {
        "id": "SSXwwtfx7t7e",
        "colab_type": "code",
        "colab": {}
      },
      "cell_type": "code",
      "source": [
        "# inputs and shareds\n",
        "weights = <student.create_variable()>\n",
        "input_X = <student.create_placeholder_matrix()>\n",
        "input_y = <student.code_placeholder_vector()>"
      ],
      "execution_count": 0,
      "outputs": []
    },
    {
      "metadata": {
        "id": "-w7oSENN7t7i",
        "colab_type": "code",
        "colab": {}
      },
      "cell_type": "code",
      "source": [
        "predicted_y_proba = <predicted probabilities for input_X using weights>\n",
        "\n",
        "loss = <logistic loss (scalar, mean over sample) between predicted_y_proba and input_y>\n",
        "\n",
        "train_step = <operator that minimizes loss>"
      ],
      "execution_count": 0,
      "outputs": []
    },
    {
      "metadata": {
        "id": "o_7FfAEX7t7p",
        "colab_type": "code",
        "colab": {}
      },
      "cell_type": "code",
      "source": [
        "from sklearn.model_selection import train_test_split\n",
        "X_train, X_test, y_train, y_test = train_test_split(X, y, random_state=42)"
      ],
      "execution_count": 0,
      "outputs": []
    },
    {
      "metadata": {
        "id": "aiQkNPvT7t7r",
        "colab_type": "code",
        "colab": {}
      },
      "cell_type": "code",
      "source": [
        "from sklearn.metrics import roc_auc_score\n",
        "\n",
        "for i in range(5):\n",
        "    \n",
        "    loss_i, _ = sess.run([loss, train_step], ###<YOUR CODE: feed values to placeholders>)\n",
        "    \n",
        "    print(\"loss at iter %i: %.4f\" % (i, loss_i))\n",
        "    \n",
        "    print(\"train auc:\", roc_auc_score(y_train, sess.run(predicted_y_proba, {input_X: X_train})))\n",
        "    print(\"test auc:\", roc_auc_score(y_test, sess.run(predicted_y_proba, {input_X: X_test})))\n",
        "\n",
        "    \n",
        "print (\"resulting weights:\")\n",
        "plt.imshow(sess.run(weights).reshape(8, -1))\n",
        "plt.colorbar();"
      ],
      "execution_count": 0,
      "outputs": []
    },
    {
      "metadata": {
        "id": "0VIeASMG7t7v",
        "colab_type": "text"
      },
      "cell_type": "markdown",
      "source": [
        "# Practice 3: my first tensorflow network\n",
        "Your ultimate task for this week is to build your first neural network [almost] from scratch and pure tensorflow.\n",
        "\n",
        "This time you will same digit recognition problem, but at a larger scale\n",
        "* images are now 28x28\n",
        "* 10 different digits\n",
        "* 50k samples\n",
        "\n",
        "Note that you are not required to build 152-layer monsters here. A 2-layer (one hidden, one output) NN should already have ive you an edge over logistic regression.\n",
        "\n",
        "__[bonus score]__\n",
        "If you've already beaten logistic regression with a two-layer net, but enthusiasm still ain't gone, you can try improving the test accuracy even further! The milestones would be 95%/97.5%/98.5% accuraсy on test set.\n",
        "\n",
        "__SPOILER!__\n",
        "At the end of the notebook you will find a few tips and frequently made mistakes. If you feel enough might to shoot yourself in the foot without external assistance, we encourage you to do so, but if you encounter any unsurpassable issues, please do look there before mailing us."
      ]
    },
    {
      "metadata": {
        "id": "NGfm9WsT7t7v",
        "colab_type": "code",
        "colab": {}
      },
      "cell_type": "code",
      "source": [
        "from mnist import load_dataset\n",
        "\n",
        "# [down]loading the original MNIST dataset.\n",
        "# Please note that you should only train your NN on _train sample,\n",
        "#  _val can be used to evaluate out-of-sample error, compare models or perform early-stopping\n",
        "#  _test should be hidden under a rock untill final evaluation... But we both know it is near impossible to catch you evaluating on it.\n",
        "X_train, y_train, X_val, y_val, X_test, y_test = load_dataset()\n",
        "\n",
        "print (X_train.shape,y_train.shape)"
      ],
      "execution_count": 0,
      "outputs": []
    },
    {
      "metadata": {
        "id": "RKvs_q-t7t7x",
        "colab_type": "code",
        "colab": {}
      },
      "cell_type": "code",
      "source": [
        "plt.imshow(X_train[0,0])"
      ],
      "execution_count": 0,
      "outputs": []
    },
    {
      "metadata": {
        "id": "NA6uOgoB7t73",
        "colab_type": "code",
        "colab": {}
      },
      "cell_type": "code",
      "source": [
        "<this cell looks as if it wants you to create variables here>"
      ],
      "execution_count": 0,
      "outputs": []
    },
    {
      "metadata": {
        "id": "ZNfzv0Tg7t75",
        "colab_type": "code",
        "colab": {}
      },
      "cell_type": "code",
      "source": [
        "<you could just as well create a computation graph here - loss, optimizers, all that stuff>"
      ],
      "execution_count": 0,
      "outputs": []
    },
    {
      "metadata": {
        "id": "ZcAwrH9D7t77",
        "colab_type": "code",
        "colab": {}
      },
      "cell_type": "code",
      "source": [
        "<this may or may not be a good place to run optimizer in a loop>"
      ],
      "execution_count": 0,
      "outputs": []
    },
    {
      "metadata": {
        "id": "llJaLAv17t78",
        "colab_type": "code",
        "colab": {}
      },
      "cell_type": "code",
      "source": [
        "<this may be a perfect cell to write a training & evaluation loop in>"
      ],
      "execution_count": 0,
      "outputs": []
    },
    {
      "metadata": {
        "id": "Y7TbK7sY7t8A",
        "colab_type": "code",
        "colab": {}
      },
      "cell_type": "code",
      "source": [
        "<predict & evaluate on test here, right? No cheating pls.>"
      ],
      "execution_count": 0,
      "outputs": []
    },
    {
      "metadata": {
        "id": "c3b2GVfb7t8D",
        "colab_type": "text"
      },
      "cell_type": "markdown",
      "source": [
        "```\n",
        "\n",
        "```\n",
        "\n",
        "```\n",
        "\n",
        "```\n",
        "\n",
        "```\n",
        "\n",
        "```\n",
        "\n",
        "```\n",
        "\n",
        "```\n",
        "\n",
        "```\n",
        "\n",
        "```\n",
        "\n",
        "```\n",
        "\n",
        "```\n",
        "\n",
        "```\n",
        "\n",
        "```\n",
        "\n",
        "```\n",
        "\n",
        "```\n",
        "\n",
        "\n",
        "# SPOILERS!\n",
        "\n",
        "Recommended pipeline\n",
        "\n",
        "* Adapt logistic regression from previous assignment to classify some number against others (e.g. zero vs nonzero)\n",
        "* Generalize it to multiclass logistic regression.\n",
        "  - Either try to remember lecture 0 or google it.\n",
        "  - Instead of weight vector you'll have to use matrix (feature_id x class_id)\n",
        "  - softmax (exp over sum of exps) can implemented manually or as T.nnet.softmax (stable)\n",
        "  - probably better to use STOCHASTIC gradient descent (minibatch)\n",
        "    - in which case sample should probably be shuffled (or use random subsamples on each iteration)\n",
        "* Add a hidden layer. Now your logistic regression uses hidden neurons instead of inputs.\n",
        "  - Hidden layer uses the same math as output layer (ex-logistic regression), but uses some nonlinearity (sigmoid) instead of softmax\n",
        "  - You need to train both layers, not just output layer :)\n",
        "  - Do not initialize layers with zeros (due to symmetry effects). A gaussian noize with small sigma will do.\n",
        "  - 50 hidden neurons and a sigmoid nonlinearity will do for a start. Many ways to improve. \n",
        "  - In ideal casae this totals to 2 .dot's, 1 softmax and 1 sigmoid\n",
        "  - __make sure this neural network works better than logistic regression__\n",
        "  \n",
        "* Now's the time to try improving the network. Consider layers (size, neuron count),  nonlinearities, optimization methods, initialization - whatever you want, but please avoid convolutions for now."
      ]
    }
  ]
}